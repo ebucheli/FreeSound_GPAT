{
 "cells": [
  {
   "cell_type": "code",
   "execution_count": 1,
   "metadata": {
    "_cell_guid": "b1076dfc-b9ad-4769-8c92-a6c4dae69d19",
    "_uuid": "8f2839f25d086af736a60e9eeb907d3b93b6e0e5"
   },
   "outputs": [],
   "source": [
    "import numpy as np\n",
    "import pandas as pd\n",
    "import matplotlib.pyplot as plt\n",
    "import librosa\n",
    "import librosa.display\n",
    "from IPython.display import Audio\n",
    "\n",
    "import os\n",
    "import pickle\n",
    "import json\n",
    "\n",
    "from tqdm import tqdm_notebook\n",
    "from scipy.io import wavfile\n",
    "from copy import deepcopy"
   ]
  },
  {
   "cell_type": "code",
   "execution_count": 2,
   "metadata": {},
   "outputs": [],
   "source": [
    "#path_dataset = '../input/'\n",
    "path_dataset = '/home/edoardobucheli/Datasets/FSDKaggle2018'\n",
    "\n",
    "path_train = os.path.join(path_dataset,'audio_train_16k')\n",
    "path_test = os.path.join(path_dataset,'audio_test_16k')"
   ]
  },
  {
   "cell_type": "code",
   "execution_count": 3,
   "metadata": {},
   "outputs": [],
   "source": [
    "train_data = pd.read_csv(os.path.join(path_dataset,'train_post_competition.csv'))\n",
    "test_data = pd.read_csv(os.path.join(path_dataset,'test_post_competition_scoring_clips.csv'))"
   ]
  },
  {
   "cell_type": "code",
   "execution_count": 4,
   "metadata": {},
   "outputs": [
    {
     "data": {
      "text/html": [
       "<div>\n",
       "<style scoped>\n",
       "    .dataframe tbody tr th:only-of-type {\n",
       "        vertical-align: middle;\n",
       "    }\n",
       "\n",
       "    .dataframe tbody tr th {\n",
       "        vertical-align: top;\n",
       "    }\n",
       "\n",
       "    .dataframe thead th {\n",
       "        text-align: right;\n",
       "    }\n",
       "</style>\n",
       "<table border=\"1\" class=\"dataframe\">\n",
       "  <thead>\n",
       "    <tr style=\"text-align: right;\">\n",
       "      <th></th>\n",
       "      <th>fname</th>\n",
       "      <th>label</th>\n",
       "      <th>manually_verified</th>\n",
       "      <th>freesound_id</th>\n",
       "      <th>license</th>\n",
       "    </tr>\n",
       "  </thead>\n",
       "  <tbody>\n",
       "    <tr>\n",
       "      <th>0</th>\n",
       "      <td>00044347.wav</td>\n",
       "      <td>Hi-hat</td>\n",
       "      <td>0</td>\n",
       "      <td>28739</td>\n",
       "      <td>Attribution</td>\n",
       "    </tr>\n",
       "    <tr>\n",
       "      <th>1</th>\n",
       "      <td>001ca53d.wav</td>\n",
       "      <td>Saxophone</td>\n",
       "      <td>1</td>\n",
       "      <td>358827</td>\n",
       "      <td>Attribution</td>\n",
       "    </tr>\n",
       "    <tr>\n",
       "      <th>2</th>\n",
       "      <td>002d256b.wav</td>\n",
       "      <td>Trumpet</td>\n",
       "      <td>0</td>\n",
       "      <td>10897</td>\n",
       "      <td>Creative Commons 0</td>\n",
       "    </tr>\n",
       "    <tr>\n",
       "      <th>3</th>\n",
       "      <td>0033e230.wav</td>\n",
       "      <td>Glockenspiel</td>\n",
       "      <td>1</td>\n",
       "      <td>325017</td>\n",
       "      <td>Attribution</td>\n",
       "    </tr>\n",
       "    <tr>\n",
       "      <th>4</th>\n",
       "      <td>00353774.wav</td>\n",
       "      <td>Cello</td>\n",
       "      <td>1</td>\n",
       "      <td>195688</td>\n",
       "      <td>Attribution</td>\n",
       "    </tr>\n",
       "  </tbody>\n",
       "</table>\n",
       "</div>"
      ],
      "text/plain": [
       "          fname         label  manually_verified  freesound_id  \\\n",
       "0  00044347.wav        Hi-hat                  0         28739   \n",
       "1  001ca53d.wav     Saxophone                  1        358827   \n",
       "2  002d256b.wav       Trumpet                  0         10897   \n",
       "3  0033e230.wav  Glockenspiel                  1        325017   \n",
       "4  00353774.wav         Cello                  1        195688   \n",
       "\n",
       "              license  \n",
       "0         Attribution  \n",
       "1         Attribution  \n",
       "2  Creative Commons 0  \n",
       "3         Attribution  \n",
       "4         Attribution  "
      ]
     },
     "execution_count": 4,
     "metadata": {},
     "output_type": "execute_result"
    }
   ],
   "source": [
    "train_data.head()"
   ]
  },
  {
   "cell_type": "code",
   "execution_count": 5,
   "metadata": {},
   "outputs": [
    {
     "data": {
      "text/html": [
       "<div>\n",
       "<style scoped>\n",
       "    .dataframe tbody tr th:only-of-type {\n",
       "        vertical-align: middle;\n",
       "    }\n",
       "\n",
       "    .dataframe tbody tr th {\n",
       "        vertical-align: top;\n",
       "    }\n",
       "\n",
       "    .dataframe thead th {\n",
       "        text-align: right;\n",
       "    }\n",
       "</style>\n",
       "<table border=\"1\" class=\"dataframe\">\n",
       "  <thead>\n",
       "    <tr style=\"text-align: right;\">\n",
       "      <th></th>\n",
       "      <th>fname</th>\n",
       "      <th>label</th>\n",
       "      <th>usage</th>\n",
       "      <th>freesound_id</th>\n",
       "      <th>license</th>\n",
       "    </tr>\n",
       "  </thead>\n",
       "  <tbody>\n",
       "    <tr>\n",
       "      <th>0</th>\n",
       "      <td>00326aa9.wav</td>\n",
       "      <td>Oboe</td>\n",
       "      <td>Private</td>\n",
       "      <td>355125</td>\n",
       "      <td>Attribution</td>\n",
       "    </tr>\n",
       "    <tr>\n",
       "      <th>1</th>\n",
       "      <td>0038a046.wav</td>\n",
       "      <td>Bass_drum</td>\n",
       "      <td>Private</td>\n",
       "      <td>90621</td>\n",
       "      <td>Creative Commons 0</td>\n",
       "    </tr>\n",
       "    <tr>\n",
       "      <th>2</th>\n",
       "      <td>007759c4.wav</td>\n",
       "      <td>Saxophone</td>\n",
       "      <td>Private</td>\n",
       "      <td>13406</td>\n",
       "      <td>Creative Commons 0</td>\n",
       "    </tr>\n",
       "    <tr>\n",
       "      <th>3</th>\n",
       "      <td>008afd93.wav</td>\n",
       "      <td>Saxophone</td>\n",
       "      <td>Private</td>\n",
       "      <td>358962</td>\n",
       "      <td>Attribution</td>\n",
       "    </tr>\n",
       "    <tr>\n",
       "      <th>4</th>\n",
       "      <td>00ae03f6.wav</td>\n",
       "      <td>Chime</td>\n",
       "      <td>Private</td>\n",
       "      <td>78203</td>\n",
       "      <td>Attribution</td>\n",
       "    </tr>\n",
       "  </tbody>\n",
       "</table>\n",
       "</div>"
      ],
      "text/plain": [
       "          fname      label    usage  freesound_id             license\n",
       "0  00326aa9.wav       Oboe  Private        355125         Attribution\n",
       "1  0038a046.wav  Bass_drum  Private         90621  Creative Commons 0\n",
       "2  007759c4.wav  Saxophone  Private         13406  Creative Commons 0\n",
       "3  008afd93.wav  Saxophone  Private        358962         Attribution\n",
       "4  00ae03f6.wav      Chime  Private         78203         Attribution"
      ]
     },
     "execution_count": 5,
     "metadata": {},
     "output_type": "execute_result"
    }
   ],
   "source": [
    "test_data.head()"
   ]
  },
  {
   "cell_type": "code",
   "execution_count": 6,
   "metadata": {},
   "outputs": [],
   "source": [
    "classes = np.unique(train_data['label'])\n",
    "n_classes = len(classes)\n",
    "\n",
    "num_to_label = dict([[v,k] for v,k in enumerate(classes)])\n",
    "label_to_num = dict([[k,v] for v,k in enumerate(classes)])\n",
    "\n",
    "with open('./label_to_meta_v1.json','r') as fp:\n",
    "    label_to_meta = json.load(fp)\n",
    "    \n",
    "label_num_to_meta = dict([[label_to_num[f],v] for [f,v] in label_to_meta.items()])"
   ]
  },
  {
   "cell_type": "code",
   "execution_count": 7,
   "metadata": {},
   "outputs": [],
   "source": [
    "data_manual = train_data[train_data['manually_verified']==1]\n",
    "data_auto = train_data[train_data['manually_verified']==0]"
   ]
  },
  {
   "cell_type": "code",
   "execution_count": 8,
   "metadata": {},
   "outputs": [],
   "source": [
    "filenames_all = train_data['fname'].tolist()\n",
    "meta_labels_all = [label_to_meta[f] for f in train_data['label']]\n",
    "labels_all = [label_to_num[f] for f in train_data['label']]\n",
    "\n",
    "filenames_manual = data_manual['fname'].tolist()\n",
    "meta_labels_manual = [label_to_meta[f] for f in data_manual['label']]\n",
    "labels_manual = [label_to_num[f] for f in data_manual['label']]\n",
    "\n",
    "filenames_auto = data_auto['fname'].tolist()\n",
    "meta_labels_auto = [label_to_meta[f] for f in data_auto['label']]\n",
    "labels_auto = [label_to_num[f] for f in data_auto['label']]\n",
    "\n",
    "filenames_test = test_data['fname'].tolist()\n",
    "meta_labels_test = [label_to_meta[f] for f in test_data['label']]\n",
    "labels_test = [label_to_num[f] for f in test_data['label']]"
   ]
  },
  {
   "cell_type": "markdown",
   "metadata": {},
   "source": [
    "### Load Data"
   ]
  },
  {
   "cell_type": "code",
   "execution_count": 9,
   "metadata": {},
   "outputs": [],
   "source": [
    "pickle_train = './preprocessed_train/MS-80-HL512-WF16k-64k'\n",
    "pickle_test = './preprocessed_test/MS-80-HL512-WF16k-64k'"
   ]
  },
  {
   "cell_type": "code",
   "execution_count": 10,
   "metadata": {},
   "outputs": [],
   "source": [
    "with open(pickle_train,'rb') as fp:\n",
    "    x_train = pickle.load(fp)\n",
    "with open(pickle_test, 'rb') as fp:\n",
    "    x_test = pickle.load(fp)"
   ]
  },
  {
   "cell_type": "code",
   "execution_count": 11,
   "metadata": {},
   "outputs": [],
   "source": [
    "#indx_0 = [i for i,f in enumerate(meta_labels_all) if f == 0]\n",
    "#indx_1 = [i for i,f in enumerate(meta_labels_all) if f == 1]\n",
    "#indx_2 = [i for i,f in enumerate(meta_labels_all) if f == 2]\n",
    "#indx_3 = [i for i,f in enumerate(meta_labels_all) if f == 3]\n",
    "#indx_4 = [i for i,f in enumerate(meta_labels_all) if f == 4]\n",
    "indx_5 = [i for i,f in enumerate(meta_labels_all) if f == 5]\n",
    "#indx_6 = [i for i,f in enumerate(meta_labels_all) if f == 6]"
   ]
  },
  {
   "cell_type": "code",
   "execution_count": 12,
   "metadata": {},
   "outputs": [],
   "source": [
    "x_1 = [x_train[f] for f in indx_5]\n",
    "labels_1 = [labels_all[f] for f in indx_5]\n",
    "labels_name_1 = [num_to_label[f] for f in labels_1]"
   ]
  },
  {
   "cell_type": "code",
   "execution_count": 13,
   "metadata": {},
   "outputs": [],
   "source": [
    "c1_new_label_mapping = dict([[f,i] for i,f in enumerate(np.unique(labels_1))])"
   ]
  },
  {
   "cell_type": "code",
   "execution_count": 14,
   "metadata": {},
   "outputs": [],
   "source": [
    "new_train_labels_1 = [c1_new_label_mapping[f] for f in labels_1]"
   ]
  },
  {
   "cell_type": "code",
   "execution_count": 15,
   "metadata": {},
   "outputs": [],
   "source": [
    "indx_test_1 = [i for i,f in enumerate(meta_labels_test) if f == 5]"
   ]
  },
  {
   "cell_type": "code",
   "execution_count": 16,
   "metadata": {},
   "outputs": [],
   "source": [
    "x_test_1 = [x_test[f] for f in indx_test_1]\n",
    "labels_test_1 = [labels_test[f] for f in indx_test_1]"
   ]
  },
  {
   "cell_type": "code",
   "execution_count": 17,
   "metadata": {},
   "outputs": [],
   "source": [
    "#c1_new_label_mapping = dict([[f,i] for i,f in enumerate(np.unique(labels_test_1))])"
   ]
  },
  {
   "cell_type": "code",
   "execution_count": 18,
   "metadata": {},
   "outputs": [],
   "source": [
    "new_test_labels_1 = [c1_new_label_mapping[f] for f in labels_test_1]"
   ]
  },
  {
   "cell_type": "code",
   "execution_count": 19,
   "metadata": {},
   "outputs": [],
   "source": [
    "sr = 16000\n",
    "file_length = sr*4\n",
    "hop_length = 512\n",
    "n_mels = 80\n",
    "\n",
    "frames = int(np.ceil(file_length/hop_length))"
   ]
  },
  {
   "cell_type": "code",
   "execution_count": 20,
   "metadata": {},
   "outputs": [
    {
     "name": "stderr",
     "output_type": "stream",
     "text": [
      "Using TensorFlow backend.\n"
     ]
    }
   ],
   "source": [
    "from keras.utils import Sequence\n",
    "\n",
    "class DataGenerator(Sequence):\n",
    "    def __init__(self,x_set,y_set,\n",
    "                 batch_size = 128,input_shape = (80,frames),\n",
    "                 n_classes=80, sr = 44100, seconds = 4):\n",
    "        \n",
    "        self.x, self.y = x_set,y_set\n",
    "        self.batch_size = batch_size\n",
    "        self.input_shape = input_shape\n",
    "        self.n_classes = n_classes\n",
    "        self.sr = sr\n",
    "        self.file_length = sr*seconds\n",
    "        #self.on_epoch_end()\n",
    "    \n",
    "    def __len__(self):\n",
    "        return int(np.ceil(len(self.x)/self.batch_size))\n",
    "    \n",
    "    def __getitem__(self,idx):\n",
    "        \n",
    "        spects = self.x[idx*self.batch_size:(idx+1)*self.batch_size]\n",
    "        batch_y = self.y[idx*self.batch_size:(idx+1)*self.batch_size]\n",
    "        \n",
    "        batch_x = self.__generate_data(spects)\n",
    "        \n",
    "        #print(batch_x.shape)\n",
    "        #print(batch_y.shape)\n",
    "        \n",
    "        return batch_x,batch_y\n",
    "    \n",
    "    def __generate_data(self,spects):\n",
    "        n_mels,frames = self.input_shape\n",
    "        x_batch = np.zeros((len(spects),n_mels,frames))\n",
    "        \n",
    "        for i, spect in enumerate(spects):\n",
    "            freq_res,time_res = spect.shape\n",
    "            \n",
    "            max_start = time_res-frames\n",
    "            if max_start == 0:\n",
    "                start = 0\n",
    "            else:\n",
    "                start = np.random.randint(0,max_start)\n",
    "            end = start+frames\n",
    "            \n",
    "            x_batch[i] = spect[:,start:end]\n",
    "        \n",
    "        return x_batch"
   ]
  },
  {
   "cell_type": "markdown",
   "metadata": {},
   "source": [
    "# Malley CNN"
   ]
  },
  {
   "cell_type": "code",
   "execution_count": 21,
   "metadata": {},
   "outputs": [],
   "source": [
    "from keras.layers import Conv2D, MaxPool2D, Dropout, Activation\n",
    "from keras.layers import GlobalMaxPool2D, Dense, Input\n",
    "from keras.layers import Lambda\n",
    "from keras.models import Model\n",
    "from keras.activations import relu, softmax\n",
    "from keras.backend import expand_dims\n",
    "from keras.optimizers import Adam\n",
    "from kapre.time_frequency import Melspectrogram\n",
    "from kapre.utils import Normalization2D"
   ]
  },
  {
   "cell_type": "code",
   "execution_count": 22,
   "metadata": {},
   "outputs": [],
   "source": [
    "def malley_cnn_80(input_shape, n_classes):\n",
    "\n",
    "    X_input = Input(input_shape)\n",
    "    meta_labels_all\n",
    "    X = Lambda(lambda q: expand_dims(q, -1), name='expand_dims') (X_input)\n",
    "    \n",
    "    X = Conv2D(64,[3,7],padding = 'same')(X)\n",
    "    X = Activation(relu)(X)\n",
    "    X = MaxPool2D([2,1])(X)\n",
    "    \n",
    "    X = Conv2D(128,[7,1],padding = 'same')(X)\n",
    "    X = Activation('relu')(X)\n",
    "    X = MaxPool2D([4,1])(X)\n",
    "    \n",
    "    X = Conv2D(256,[10,1],padding = 'valid')(X)\n",
    "    X = Activation('relu')(X)\n",
    "    \n",
    "    X = Conv2D(512,[1,7],padding = 'same')(X)\n",
    "    X = Activation('relu')(X)\n",
    "    \n",
    "    X = GlobalMaxPool2D()(X)\n",
    "    \n",
    "    X = Dense(512,activation = 'relu')(X)\n",
    "    X = Dropout(0.5)(X)\n",
    "    \n",
    "    X = Dense(n_classes, activation = 'softmax')(X)\n",
    "\n",
    "    model = Model(inputs = X_input, outputs = X)\n",
    "    \n",
    "    return model"
   ]
  },
  {
   "cell_type": "code",
   "execution_count": 23,
   "metadata": {},
   "outputs": [
    {
     "name": "stdout",
     "output_type": "stream",
     "text": [
      "_________________________________________________________________\n",
      "Layer (type)                 Output Shape              Param #   \n",
      "=================================================================\n",
      "input_1 (InputLayer)         (None, 80, 125)           0         \n",
      "_________________________________________________________________\n",
      "expand_dims (Lambda)         (None, 80, 125, 1)        0         \n",
      "_________________________________________________________________\n",
      "conv2d_1 (Conv2D)            (None, 80, 125, 64)       1408      \n",
      "_________________________________________________________________\n",
      "activation_1 (Activation)    (None, 80, 125, 64)       0         \n",
      "_________________________________________________________________\n",
      "max_pooling2d_1 (MaxPooling2 (None, 40, 125, 64)       0         \n",
      "_________________________________________________________________\n",
      "conv2d_2 (Conv2D)            (None, 40, 125, 128)      57472     \n",
      "_________________________________________________________________\n",
      "activation_2 (Activation)    (None, 40, 125, 128)      0         \n",
      "_________________________________________________________________\n",
      "max_pooling2d_2 (MaxPooling2 (None, 10, 125, 128)      0         \n",
      "_________________________________________________________________\n",
      "conv2d_3 (Conv2D)            (None, 1, 125, 256)       327936    \n",
      "_________________________________________________________________\n",
      "activation_3 (Activation)    (None, 1, 125, 256)       0         \n",
      "_________________________________________________________________\n",
      "conv2d_4 (Conv2D)            (None, 1, 125, 512)       918016    \n",
      "_________________________________________________________________\n",
      "activation_4 (Activation)    (None, 1, 125, 512)       0         \n",
      "_________________________________________________________________\n",
      "global_max_pooling2d_1 (Glob (None, 512)               0         \n",
      "_________________________________________________________________\n",
      "dense_1 (Dense)              (None, 512)               262656    \n",
      "_________________________________________________________________\n",
      "dropout_1 (Dropout)          (None, 512)               0         \n",
      "_________________________________________________________________\n",
      "dense_2 (Dense)              (None, 4)                 2052      \n",
      "=================================================================\n",
      "Total params: 1,569,540\n",
      "Trainable params: 1,569,540\n",
      "Non-trainable params: 0\n",
      "_________________________________________________________________\n"
     ]
    }
   ],
   "source": [
    "input_shape = ([n_mels,frames])\n",
    "lr = 0.001\n",
    "malley = malley_cnn_80(input_shape,len(c1_new_label_mapping))\n",
    "malley.summary()"
   ]
  },
  {
   "cell_type": "code",
   "execution_count": 24,
   "metadata": {},
   "outputs": [],
   "source": [
    "malley.compile(optimizer=Adam(lr),loss = 'sparse_categorical_crossentropy',metrics = ['accuracy'])"
   ]
  },
  {
   "cell_type": "markdown",
   "metadata": {},
   "source": [
    "### Split Dataset and make Generators"
   ]
  },
  {
   "cell_type": "code",
   "execution_count": 25,
   "metadata": {},
   "outputs": [],
   "source": [
    "from sklearn.model_selection import train_test_split"
   ]
  },
  {
   "cell_type": "code",
   "execution_count": 26,
   "metadata": {},
   "outputs": [],
   "source": [
    "#X_train_n,X_val_n,y_train_n,y_val_n = train_test_split(X_noisy,y_noisy,test_size=0.1, random_state=7)"
   ]
  },
  {
   "cell_type": "code",
   "execution_count": 27,
   "metadata": {},
   "outputs": [],
   "source": [
    "X_train_a,X_val_a,y_train_a,y_val_a = train_test_split(x_1,new_train_labels_1,test_size=0.1, random_state=7)"
   ]
  },
  {
   "cell_type": "code",
   "execution_count": 28,
   "metadata": {},
   "outputs": [],
   "source": [
    "#train_generator_n = DataGenerator(X_train_n,y_train_n)\n",
    "#val_generator_n = DataGenerator(X_val_n,y_val_n)"
   ]
  },
  {
   "cell_type": "code",
   "execution_count": 29,
   "metadata": {},
   "outputs": [],
   "source": [
    "train_generator_a = DataGenerator(X_train_a,y_train_a)\n",
    "val_generator_a = DataGenerator(X_val_a,y_val_a)"
   ]
  },
  {
   "cell_type": "markdown",
   "metadata": {},
   "source": [
    "### Train the Model"
   ]
  },
  {
   "cell_type": "code",
   "execution_count": 30,
   "metadata": {
    "scrolled": false
   },
   "outputs": [
    {
     "name": "stdout",
     "output_type": "stream",
     "text": [
      "Epoch 1/50\n",
      "7/7 [==============================] - 4s 536ms/step - loss: 1.3727 - acc: 0.2864 - val_loss: 1.3265 - val_acc: 0.3723\n",
      "Epoch 2/50\n",
      "7/7 [==============================] - 1s 186ms/step - loss: 1.2392 - acc: 0.4219 - val_loss: 1.0443 - val_acc: 0.5638\n",
      "Epoch 3/50\n",
      "7/7 [==============================] - 1s 186ms/step - loss: 1.0248 - acc: 0.5590 - val_loss: 0.8724 - val_acc: 0.6383\n",
      "Epoch 4/50\n",
      "7/7 [==============================] - 1s 188ms/step - loss: 0.8839 - acc: 0.6332 - val_loss: 0.7848 - val_acc: 0.7128\n",
      "Epoch 5/50\n",
      "7/7 [==============================] - 1s 187ms/step - loss: 0.7597 - acc: 0.6904 - val_loss: 0.7548 - val_acc: 0.7021\n",
      "Epoch 6/50\n",
      "7/7 [==============================] - 1s 186ms/step - loss: 0.6727 - acc: 0.7375 - val_loss: 0.6931 - val_acc: 0.7553\n",
      "Epoch 7/50\n",
      "7/7 [==============================] - 1s 186ms/step - loss: 0.6122 - acc: 0.7668 - val_loss: 0.5979 - val_acc: 0.7340\n",
      "Epoch 8/50\n",
      "7/7 [==============================] - 1s 186ms/step - loss: 0.5091 - acc: 0.8037 - val_loss: 0.5654 - val_acc: 0.7553\n",
      "Epoch 9/50\n",
      "7/7 [==============================] - 1s 186ms/step - loss: 0.4869 - acc: 0.8204 - val_loss: 0.5126 - val_acc: 0.7340\n",
      "Epoch 10/50\n",
      "7/7 [==============================] - 1s 186ms/step - loss: 0.4184 - acc: 0.8483 - val_loss: 0.4769 - val_acc: 0.8191\n",
      "Epoch 11/50\n",
      "7/7 [==============================] - 1s 186ms/step - loss: 0.4297 - acc: 0.8458 - val_loss: 0.4774 - val_acc: 0.7979\n",
      "Epoch 12/50\n",
      "7/7 [==============================] - 1s 186ms/step - loss: 0.3870 - acc: 0.8546 - val_loss: 0.6001 - val_acc: 0.7660\n",
      "Epoch 13/50\n",
      "7/7 [==============================] - 1s 186ms/step - loss: 0.3527 - acc: 0.8624 - val_loss: 0.4187 - val_acc: 0.8298\n",
      "Epoch 14/50\n",
      "7/7 [==============================] - 1s 191ms/step - loss: 0.3073 - acc: 0.8906 - val_loss: 0.4008 - val_acc: 0.8511\n",
      "Epoch 15/50\n",
      "7/7 [==============================] - 1s 188ms/step - loss: 0.3174 - acc: 0.8877 - val_loss: 0.3876 - val_acc: 0.8404\n",
      "Epoch 16/50\n",
      "7/7 [==============================] - 1s 187ms/step - loss: 0.2894 - acc: 0.8989 - val_loss: 0.4005 - val_acc: 0.8191\n",
      "Epoch 17/50\n",
      "7/7 [==============================] - 1s 187ms/step - loss: 0.2837 - acc: 0.9023 - val_loss: 0.4402 - val_acc: 0.8191\n",
      "Epoch 18/50\n",
      "7/7 [==============================] - 1s 186ms/step - loss: 0.2899 - acc: 0.8958 - val_loss: 0.4607 - val_acc: 0.8191\n",
      "Epoch 19/50\n",
      "7/7 [==============================] - 1s 187ms/step - loss: 0.2761 - acc: 0.8913 - val_loss: 0.4080 - val_acc: 0.8511\n",
      "Epoch 20/50\n",
      "7/7 [==============================] - 1s 187ms/step - loss: 0.2415 - acc: 0.9259 - val_loss: 0.3819 - val_acc: 0.8404\n",
      "Epoch 21/50\n",
      "7/7 [==============================] - 1s 187ms/step - loss: 0.2171 - acc: 0.9329 - val_loss: 0.4294 - val_acc: 0.8404\n",
      "Epoch 22/50\n",
      "7/7 [==============================] - 1s 187ms/step - loss: 0.2337 - acc: 0.9192 - val_loss: 0.3429 - val_acc: 0.8723\n",
      "Epoch 23/50\n",
      "7/7 [==============================] - 1s 187ms/step - loss: 0.2175 - acc: 0.9224 - val_loss: 0.2825 - val_acc: 0.8936\n",
      "Epoch 24/50\n",
      "7/7 [==============================] - 1s 187ms/step - loss: 0.1786 - acc: 0.9397 - val_loss: 0.2809 - val_acc: 0.8830\n",
      "Epoch 25/50\n",
      "7/7 [==============================] - 1s 187ms/step - loss: 0.1636 - acc: 0.9428 - val_loss: 0.2861 - val_acc: 0.8617\n",
      "Epoch 26/50\n",
      "7/7 [==============================] - 1s 187ms/step - loss: 0.1560 - acc: 0.9476 - val_loss: 0.5110 - val_acc: 0.8191\n",
      "Epoch 27/50\n",
      "7/7 [==============================] - 1s 188ms/step - loss: 0.2031 - acc: 0.9316 - val_loss: 0.4905 - val_acc: 0.8191\n",
      "Epoch 28/50\n",
      "7/7 [==============================] - 1s 188ms/step - loss: 0.1931 - acc: 0.9334 - val_loss: 0.3813 - val_acc: 0.8936\n",
      "Epoch 29/50\n",
      "7/7 [==============================] - 1s 188ms/step - loss: 0.1810 - acc: 0.9329 - val_loss: 0.4002 - val_acc: 0.8617\n",
      "Epoch 30/50\n",
      "7/7 [==============================] - 1s 189ms/step - loss: 0.1624 - acc: 0.9453 - val_loss: 0.3325 - val_acc: 0.8723\n",
      "Epoch 31/50\n",
      "7/7 [==============================] - 2s 219ms/step - loss: 0.1630 - acc: 0.9363 - val_loss: 0.7055 - val_acc: 0.7872\n",
      "Epoch 32/50\n",
      "7/7 [==============================] - 1s 194ms/step - loss: 0.1614 - acc: 0.9365 - val_loss: 0.3927 - val_acc: 0.9149\n",
      "Epoch 33/50\n",
      "7/7 [==============================] - 1s 188ms/step - loss: 0.1354 - acc: 0.9503 - val_loss: 0.3968 - val_acc: 0.8298\n",
      "Epoch 34/50\n",
      "7/7 [==============================] - 1s 189ms/step - loss: 0.1445 - acc: 0.9503 - val_loss: 0.4328 - val_acc: 0.7979\n",
      "Epoch 35/50\n",
      "7/7 [==============================] - 1s 189ms/step - loss: 0.1178 - acc: 0.9525 - val_loss: 0.4489 - val_acc: 0.8617\n",
      "Epoch 36/50\n",
      "7/7 [==============================] - 1s 189ms/step - loss: 0.1592 - acc: 0.9476 - val_loss: 0.3765 - val_acc: 0.8830\n",
      "Epoch 37/50\n",
      "7/7 [==============================] - 1s 189ms/step - loss: 0.1259 - acc: 0.9559 - val_loss: 0.4513 - val_acc: 0.8511\n",
      "Epoch 38/50\n",
      "7/7 [==============================] - 1s 189ms/step - loss: 0.1285 - acc: 0.9431 - val_loss: 0.4529 - val_acc: 0.8298\n",
      "Epoch 39/50\n",
      "7/7 [==============================] - 1s 189ms/step - loss: 0.1116 - acc: 0.9608 - val_loss: 0.5537 - val_acc: 0.8085\n",
      "Epoch 40/50\n",
      "7/7 [==============================] - 1s 189ms/step - loss: 0.1138 - acc: 0.9618 - val_loss: 0.3954 - val_acc: 0.8617\n",
      "Epoch 41/50\n",
      "7/7 [==============================] - 1s 189ms/step - loss: 0.1028 - acc: 0.9622 - val_loss: 0.5472 - val_acc: 0.8617\n",
      "Epoch 42/50\n",
      "7/7 [==============================] - 1s 189ms/step - loss: 0.0897 - acc: 0.9678 - val_loss: 0.5058 - val_acc: 0.8404\n",
      "Epoch 43/50\n",
      "7/7 [==============================] - 1s 189ms/step - loss: 0.1402 - acc: 0.9491 - val_loss: 0.3921 - val_acc: 0.8936\n",
      "Epoch 44/50\n",
      "7/7 [==============================] - 1s 189ms/step - loss: 0.1071 - acc: 0.9559 - val_loss: 0.4960 - val_acc: 0.8191\n",
      "Epoch 45/50\n",
      "7/7 [==============================] - 1s 203ms/step - loss: 0.0971 - acc: 0.9644 - val_loss: 0.5275 - val_acc: 0.8404\n",
      "Epoch 46/50\n",
      "7/7 [==============================] - 1s 188ms/step - loss: 0.0911 - acc: 0.9663 - val_loss: 0.5872 - val_acc: 0.8404\n",
      "Epoch 47/50\n",
      "7/7 [==============================] - 1s 189ms/step - loss: 0.0887 - acc: 0.9644 - val_loss: 0.5038 - val_acc: 0.8404\n",
      "Epoch 48/50\n",
      "7/7 [==============================] - 1s 189ms/step - loss: 0.0724 - acc: 0.9734 - val_loss: 0.4874 - val_acc: 0.8404\n",
      "Epoch 49/50\n",
      "7/7 [==============================] - 1s 188ms/step - loss: 0.0794 - acc: 0.9682 - val_loss: 0.4632 - val_acc: 0.8511\n",
      "Epoch 50/50\n",
      "7/7 [==============================] - 1s 189ms/step - loss: 0.0716 - acc: 0.9753 - val_loss: 0.4789 - val_acc: 0.8830\n"
     ]
    },
    {
     "data": {
      "text/plain": [
       "<keras.callbacks.History at 0x7f1ae0162588>"
      ]
     },
     "execution_count": 30,
     "metadata": {},
     "output_type": "execute_result"
    }
   ],
   "source": [
    "malley.fit_generator(train_generator_a,epochs = 50,validation_data=val_generator_a)"
   ]
  },
  {
   "cell_type": "code",
   "execution_count": 31,
   "metadata": {},
   "outputs": [],
   "source": [
    "x_test_c1 = np.zeros((len(x_test_1),80,125))\n",
    "\n",
    "for i, this_x in enumerate(x_test_1):\n",
    "    \n",
    "    this_frames = this_x.shape[1]\n",
    "    \n",
    "    if this_frames > 125:\n",
    "        max_start = this_frames - 125\n",
    "        start = np.random.randint(0,max_start)\n",
    "        end = start+125\n",
    "\n",
    "        this_x = this_x[:,start:end]\n",
    "        \n",
    "    x_test_c1[i] = this_x"
   ]
  },
  {
   "cell_type": "code",
   "execution_count": 32,
   "metadata": {},
   "outputs": [
    {
     "name": "stdout",
     "output_type": "stream",
     "text": [
      "125/125 [==============================] - 0s 3ms/step\n"
     ]
    },
    {
     "data": {
      "text/plain": [
       "[0.16676831627637148, 0.96]"
      ]
     },
     "execution_count": 32,
     "metadata": {},
     "output_type": "execute_result"
    }
   ],
   "source": [
    "malley.evaluate(x_test_c1,new_test_labels_1)"
   ]
  },
  {
   "cell_type": "code",
   "execution_count": 33,
   "metadata": {},
   "outputs": [],
   "source": [
    "y_scores = malley.predict(x_test_c1)"
   ]
  },
  {
   "cell_type": "code",
   "execution_count": 34,
   "metadata": {},
   "outputs": [],
   "source": [
    "y_hat_c1 = np.argmax(y_scores, axis = 1)"
   ]
  },
  {
   "cell_type": "markdown",
   "metadata": {},
   "source": [
    "### Plot Confussion Matrix"
   ]
  },
  {
   "cell_type": "code",
   "execution_count": 35,
   "metadata": {},
   "outputs": [],
   "source": [
    "from sklearn.metrics import confusion_matrix\n",
    "from mpl_toolkits.axes_grid1 import make_axes_locatable"
   ]
  },
  {
   "cell_type": "code",
   "execution_count": 36,
   "metadata": {},
   "outputs": [],
   "source": [
    "cm = confusion_matrix(new_test_labels_1,y_hat_c1)"
   ]
  },
  {
   "cell_type": "code",
   "execution_count": 37,
   "metadata": {},
   "outputs": [
    {
     "data": {
      "text/plain": [
       "{2: 0, 10: 1, 26: 2, 27: 3}"
      ]
     },
     "execution_count": 37,
     "metadata": {},
     "output_type": "execute_result"
    }
   ],
   "source": [
    "c1_new_label_mapping"
   ]
  },
  {
   "cell_type": "code",
   "execution_count": 38,
   "metadata": {},
   "outputs": [],
   "source": [
    "c1_to_name = dict([[v,num_to_label[k]] for [k,v] in c1_new_label_mapping.items()])"
   ]
  },
  {
   "cell_type": "code",
   "execution_count": 40,
   "metadata": {},
   "outputs": [
    {
     "data": {
      "image/png": "[encoded data removed]",
      "text/plain": [
       "<Figure size 1080x1080 with 2 Axes>"
      ]
     },
     "metadata": {
      "needs_background": "light"
     },
     "output_type": "display_data"
    }
   ],
   "source": [
    "normalize = True\n",
    "\n",
    "fig, ax = plt.subplots(1,1,figsize = (15,15))\n",
    "\n",
    "if normalize:\n",
    "    ax.set_title('Normalized Confussion Matrix')\n",
    "    cm = cm.astype('float') / cm.sum(axis=1)[:, np.newaxis]\n",
    "\n",
    "im1 = ax.imshow(cm, cmap = plt.cm.Blues)\n",
    "    \n",
    "divider = make_axes_locatable(ax)\n",
    "cax = divider.append_axes(\"right\", size=\"5%\", pad=0.05)\n",
    "\n",
    "plt.colorbar(im1, cax=cax)\n",
    "\n",
    "fig = ax.set(xlabel = 'Predicted', ylabel = 'True')\n",
    "fig = ax.set_xticks(np.arange(len(c1_new_label_mapping)))\n",
    "fig = ax.set_xticklabels(c1_to_name.values())\n",
    "\n",
    "fig = ax.set_yticks(np.arange(len(c1_new_label_mapping)))\n",
    "fig = ax.set_yticklabels(c1_to_name.values())\n",
    "\n",
    "fmt = '.2f' if normalize else 'd'\n",
    "\n",
    "#fmt = 'd'\n",
    "thresh = cm.max() / 2.\n",
    "\n",
    "for i in range(cm.shape[0]):\n",
    "        for j in range(cm.shape[1]):\n",
    "            ax.text(j, i, format(cm[i, j], fmt),\n",
    "                    ha=\"center\", va=\"center\",\n",
    "                    color=\"white\" if cm[i, j] > thresh else \"black\")"
   ]
  },
  {
   "cell_type": "code",
   "execution_count": 41,
   "metadata": {},
   "outputs": [
    {
     "data": {
      "text/plain": [
       "{0: 'Bark', 1: 'Cough', 2: 'Laughter', 3: 'Meow'}"
      ]
     },
     "execution_count": 41,
     "metadata": {},
     "output_type": "execute_result"
    }
   ],
   "source": [
    "c1_to_name"
   ]
  },
  {
   "cell_type": "code",
   "execution_count": 42,
   "metadata": {},
   "outputs": [
    {
     "data": {
      "text/plain": [
       "{2: 0, 10: 1, 26: 2, 27: 3}"
      ]
     },
     "execution_count": 42,
     "metadata": {},
     "output_type": "execute_result"
    }
   ],
   "source": [
    "c1_new_label_mapping"
   ]
  },
  {
   "cell_type": "markdown",
   "metadata": {},
   "source": [
    "### Train Only with Curated Data"
   ]
  },
  {
   "cell_type": "code",
   "execution_count": null,
   "metadata": {},
   "outputs": [],
   "source": [
    "X_curated = []\n",
    "\n",
    "for i,tag in enumerate(train_data['manually_verified']):\n",
    "    if tag == 1:\n",
    "        X_curated.append(X_all[i])"
   ]
  },
  {
   "cell_type": "code",
   "execution_count": null,
   "metadata": {},
   "outputs": [],
   "source": [
    "X_train_c,X_val_c,y_train_c,y_val_c = train_test_split(X_curated,labels_manual,test_size=0.1, random_state=7)"
   ]
  },
  {
   "cell_type": "code",
   "execution_count": 41,
   "metadata": {},
   "outputs": [],
   "source": [
    "train_generator_c = DataGenerator(X_train_c,y_train_c)\n",
    "val_generator_c = DataGenerator(X_val_c,y_val_c)"
   ]
  },
  {
   "cell_type": "code",
   "execution_count": 49,
   "metadata": {},
   "outputs": [
    {
     "name": "stdout",
     "output_type": "stream",
     "text": [
      "Epoch 1/1\n",
      "27/27 [==============================] - 6s 222ms/step - loss: 0.0812 - acc: 0.9721 - val_loss: 1.4502 - val_acc: 0.7562\n"
     ]
    },
    {
     "data": {
      "text/plain": [
       "<keras.callbacks.History at 0x7f008a7c2d30>"
      ]
     },
     "execution_count": 49,
     "metadata": {},
     "output_type": "execute_result"
    }
   ],
   "source": [
    "malley.fit_generator(train_generator_c,epochs = 1,validation_data=test_generator)"
   ]
  },
  {
   "cell_type": "markdown",
   "metadata": {},
   "source": [
    "### Test"
   ]
  },
  {
   "cell_type": "code",
   "execution_count": null,
   "metadata": {},
   "outputs": [],
   "source": []
  },
  {
   "cell_type": "code",
   "execution_count": null,
   "metadata": {},
   "outputs": [],
   "source": []
  }
 ],
 "metadata": {
  "kernelspec": {
   "display_name": "Python 3",
   "language": "python",
   "name": "python3"
  },
  "language_info": {
   "codemirror_mode": {
    "name": "ipython",
    "version": 3
   },
   "file_extension": ".py",
   "mimetype": "text/x-python",
   "name": "python",
   "nbconvert_exporter": "python",
   "pygments_lexer": "ipython3",
   "version": "3.6.7"
  }
 },
 "nbformat": 4,
 "nbformat_minor": 1
}
