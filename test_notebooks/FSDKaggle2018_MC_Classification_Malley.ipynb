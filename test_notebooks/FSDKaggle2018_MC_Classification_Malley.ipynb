{
 "cells": [
  {
   "cell_type": "code",
   "execution_count": 1,
   "metadata": {
    "_cell_guid": "b1076dfc-b9ad-4769-8c92-a6c4dae69d19",
    "_uuid": "8f2839f25d086af736a60e9eeb907d3b93b6e0e5"
   },
   "outputs": [],
   "source": [
    "import numpy as np\n",
    "import pandas as pd\n",
    "import matplotlib.pyplot as plt\n",
    "import librosa\n",
    "import librosa.display\n",
    "from IPython.display import Audio\n",
    "\n",
    "import os\n",
    "import pickle\n",
    "import json\n",
    "\n",
    "from tqdm import tqdm_notebook\n",
    "from scipy.io import wavfile\n",
    "from copy import deepcopy"
   ]
  },
  {
   "cell_type": "code",
   "execution_count": 2,
   "metadata": {},
   "outputs": [],
   "source": [
    "#path_dataset = '../input/'\n",
    "path_dataset = '/home/edoardobucheli/Datasets/FSDKaggle2018'\n",
    "\n",
    "path_train = os.path.join(path_dataset,'audio_train_16k')\n",
    "path_test = os.path.join(path_dataset,'audio_test_16k')"
   ]
  },
  {
   "cell_type": "code",
   "execution_count": 3,
   "metadata": {},
   "outputs": [],
   "source": [
    "train_data = pd.read_csv(os.path.join(path_dataset,'train_post_competition.csv'))\n",
    "test_data = pd.read_csv(os.path.join(path_dataset,'test_post_competition_scoring_clips.csv'))"
   ]
  },
  {
   "cell_type": "code",
   "execution_count": 4,
   "metadata": {},
   "outputs": [
    {
     "data": {
      "text/html": [
       "<div>\n",
       "<style scoped>\n",
       "    .dataframe tbody tr th:only-of-type {\n",
       "        vertical-align: middle;\n",
       "    }\n",
       "\n",
       "    .dataframe tbody tr th {\n",
       "        vertical-align: top;\n",
       "    }\n",
       "\n",
       "    .dataframe thead th {\n",
       "        text-align: right;\n",
       "    }\n",
       "</style>\n",
       "<table border=\"1\" class=\"dataframe\">\n",
       "  <thead>\n",
       "    <tr style=\"text-align: right;\">\n",
       "      <th></th>\n",
       "      <th>fname</th>\n",
       "      <th>label</th>\n",
       "      <th>manually_verified</th>\n",
       "      <th>freesound_id</th>\n",
       "      <th>license</th>\n",
       "    </tr>\n",
       "  </thead>\n",
       "  <tbody>\n",
       "    <tr>\n",
       "      <th>0</th>\n",
       "      <td>00044347.wav</td>\n",
       "      <td>Hi-hat</td>\n",
       "      <td>0</td>\n",
       "      <td>28739</td>\n",
       "      <td>Attribution</td>\n",
       "    </tr>\n",
       "    <tr>\n",
       "      <th>1</th>\n",
       "      <td>001ca53d.wav</td>\n",
       "      <td>Saxophone</td>\n",
       "      <td>1</td>\n",
       "      <td>358827</td>\n",
       "      <td>Attribution</td>\n",
       "    </tr>\n",
       "    <tr>\n",
       "      <th>2</th>\n",
       "      <td>002d256b.wav</td>\n",
       "      <td>Trumpet</td>\n",
       "      <td>0</td>\n",
       "      <td>10897</td>\n",
       "      <td>Creative Commons 0</td>\n",
       "    </tr>\n",
       "    <tr>\n",
       "      <th>3</th>\n",
       "      <td>0033e230.wav</td>\n",
       "      <td>Glockenspiel</td>\n",
       "      <td>1</td>\n",
       "      <td>325017</td>\n",
       "      <td>Attribution</td>\n",
       "    </tr>\n",
       "    <tr>\n",
       "      <th>4</th>\n",
       "      <td>00353774.wav</td>\n",
       "      <td>Cello</td>\n",
       "      <td>1</td>\n",
       "      <td>195688</td>\n",
       "      <td>Attribution</td>\n",
       "    </tr>\n",
       "  </tbody>\n",
       "</table>\n",
       "</div>"
      ],
      "text/plain": [
       "          fname         label  manually_verified  freesound_id  \\\n",
       "0  00044347.wav        Hi-hat                  0         28739   \n",
       "1  001ca53d.wav     Saxophone                  1        358827   \n",
       "2  002d256b.wav       Trumpet                  0         10897   \n",
       "3  0033e230.wav  Glockenspiel                  1        325017   \n",
       "4  00353774.wav         Cello                  1        195688   \n",
       "\n",
       "              license  \n",
       "0         Attribution  \n",
       "1         Attribution  \n",
       "2  Creative Commons 0  \n",
       "3         Attribution  \n",
       "4         Attribution  "
      ]
     },
     "execution_count": 4,
     "metadata": {},
     "output_type": "execute_result"
    }
   ],
   "source": [
    "train_data.head()"
   ]
  },
  {
   "cell_type": "code",
   "execution_count": 5,
   "metadata": {},
   "outputs": [
    {
     "data": {
      "text/html": [
       "<div>\n",
       "<style scoped>\n",
       "    .dataframe tbody tr th:only-of-type {\n",
       "        vertical-align: middle;\n",
       "    }\n",
       "\n",
       "    .dataframe tbody tr th {\n",
       "        vertical-align: top;\n",
       "    }\n",
       "\n",
       "    .dataframe thead th {\n",
       "        text-align: right;\n",
       "    }\n",
       "</style>\n",
       "<table border=\"1\" class=\"dataframe\">\n",
       "  <thead>\n",
       "    <tr style=\"text-align: right;\">\n",
       "      <th></th>\n",
       "      <th>fname</th>\n",
       "      <th>label</th>\n",
       "      <th>usage</th>\n",
       "      <th>freesound_id</th>\n",
       "      <th>license</th>\n",
       "    </tr>\n",
       "  </thead>\n",
       "  <tbody>\n",
       "    <tr>\n",
       "      <th>0</th>\n",
       "      <td>00326aa9.wav</td>\n",
       "      <td>Oboe</td>\n",
       "      <td>Private</td>\n",
       "      <td>355125</td>\n",
       "      <td>Attribution</td>\n",
       "    </tr>\n",
       "    <tr>\n",
       "      <th>1</th>\n",
       "      <td>0038a046.wav</td>\n",
       "      <td>Bass_drum</td>\n",
       "      <td>Private</td>\n",
       "      <td>90621</td>\n",
       "      <td>Creative Commons 0</td>\n",
       "    </tr>\n",
       "    <tr>\n",
       "      <th>2</th>\n",
       "      <td>007759c4.wav</td>\n",
       "      <td>Saxophone</td>\n",
       "      <td>Private</td>\n",
       "      <td>13406</td>\n",
       "      <td>Creative Commons 0</td>\n",
       "    </tr>\n",
       "    <tr>\n",
       "      <th>3</th>\n",
       "      <td>008afd93.wav</td>\n",
       "      <td>Saxophone</td>\n",
       "      <td>Private</td>\n",
       "      <td>358962</td>\n",
       "      <td>Attribution</td>\n",
       "    </tr>\n",
       "    <tr>\n",
       "      <th>4</th>\n",
       "      <td>00ae03f6.wav</td>\n",
       "      <td>Chime</td>\n",
       "      <td>Private</td>\n",
       "      <td>78203</td>\n",
       "      <td>Attribution</td>\n",
       "    </tr>\n",
       "  </tbody>\n",
       "</table>\n",
       "</div>"
      ],
      "text/plain": [
       "          fname      label    usage  freesound_id             license\n",
       "0  00326aa9.wav       Oboe  Private        355125         Attribution\n",
       "1  0038a046.wav  Bass_drum  Private         90621  Creative Commons 0\n",
       "2  007759c4.wav  Saxophone  Private         13406  Creative Commons 0\n",
       "3  008afd93.wav  Saxophone  Private        358962         Attribution\n",
       "4  00ae03f6.wav      Chime  Private         78203         Attribution"
      ]
     },
     "execution_count": 5,
     "metadata": {},
     "output_type": "execute_result"
    }
   ],
   "source": [
    "test_data.head()"
   ]
  },
  {
   "cell_type": "code",
   "execution_count": 6,
   "metadata": {},
   "outputs": [],
   "source": [
    "classes = np.unique(train_data['label'])\n",
    "n_classes = len(classes)\n",
    "\n",
    "num_to_label = dict([[v,k] for v,k in enumerate(classes)])\n",
    "label_to_num = dict([[k,v] for v,k in enumerate(classes)])\n",
    "\n",
    "with open('./label_to_meta_v1.json','r') as fp:\n",
    "    label_to_meta = json.load(fp)\n",
    "    \n",
    "label_num_to_meta = dict([[label_to_num[f],v] for [f,v] in label_to_meta.items()])"
   ]
  },
  {
   "cell_type": "code",
   "execution_count": 7,
   "metadata": {},
   "outputs": [],
   "source": [
    "data_manual = train_data[train_data['manually_verified']==1]\n",
    "data_auto = train_data[train_data['manually_verified']==0]"
   ]
  },
  {
   "cell_type": "code",
   "execution_count": 8,
   "metadata": {},
   "outputs": [],
   "source": [
    "filenames_all = train_data['fname'].tolist()\n",
    "meta_labels_all = [label_to_meta[f] for f in train_data['label']]\n",
    "labels_all = [label_to_num[f] for f in train_data['label']]\n",
    "\n",
    "filenames_manual = data_manual['fname'].tolist()\n",
    "meta_labels_manual = [label_to_meta[f] for f in data_manual['label']]\n",
    "labels_manual = [label_to_num[f] for f in data_manual['label']]\n",
    "\n",
    "filenames_auto = data_auto['fname'].tolist()\n",
    "meta_labels_auto = [label_to_meta[f] for f in data_auto['label']]\n",
    "labels_auto = [label_to_num[f] for f in data_auto['label']]\n",
    "\n",
    "filenames_test = test_data['fname'].tolist()\n",
    "meta_labels_test = [label_to_meta[f] for f in test_data['label']]\n",
    "labels_test = [label_to_num[f] for f in test_data['label']]"
   ]
  },
  {
   "cell_type": "code",
   "execution_count": 9,
   "metadata": {},
   "outputs": [],
   "source": [
    "n_meta_classes = len(np.unique(meta_labels_all))"
   ]
  },
  {
   "cell_type": "markdown",
   "metadata": {},
   "source": [
    "### Load Data"
   ]
  },
  {
   "cell_type": "code",
   "execution_count": 10,
   "metadata": {},
   "outputs": [],
   "source": [
    "pickle_train = './preprocessed_train/MS-80-HL512-WF16k-64k'\n",
    "pickle_test = './preprocessed_test/MS-80-HL512-WF16k-64k'"
   ]
  },
  {
   "cell_type": "code",
   "execution_count": 11,
   "metadata": {},
   "outputs": [],
   "source": [
    "with open(pickle_train,'rb') as fp:\n",
    "    x_train = pickle.load(fp)\n",
    "with open(pickle_test, 'rb') as fp:\n",
    "    x_test = pickle.load(fp)"
   ]
  },
  {
   "cell_type": "code",
   "execution_count": 12,
   "metadata": {},
   "outputs": [],
   "source": [
    "sr = 16000\n",
    "file_length = sr*4\n",
    "hop_length = 512\n",
    "n_mels = 80\n",
    "\n",
    "frames = int(np.ceil(file_length/hop_length))"
   ]
  },
  {
   "cell_type": "code",
   "execution_count": 13,
   "metadata": {},
   "outputs": [
    {
     "name": "stderr",
     "output_type": "stream",
     "text": [
      "Using TensorFlow backend.\n"
     ]
    }
   ],
   "source": [
    "from keras.utils import Sequence\n",
    "\n",
    "class DataGenerator(Sequence):\n",
    "    def __init__(self,x_set,y_set,\n",
    "                 batch_size = 128,input_shape = (80,frames),\n",
    "                 n_classes=80, sr = 44100, seconds = 4):\n",
    "        \n",
    "        self.x, self.y = x_set,y_set\n",
    "        self.batch_size = batch_size\n",
    "        self.input_shape = input_shape\n",
    "        self.n_classes = n_classes\n",
    "        self.sr = sr\n",
    "        self.file_length = sr*seconds\n",
    "        #self.on_epoch_end()\n",
    "    \n",
    "    def __len__(self):\n",
    "        return int(np.ceil(len(self.x)/self.batch_size))\n",
    "    \n",
    "    def __getitem__(self,idx):\n",
    "        \n",
    "        spects = self.x[idx*self.batch_size:(idx+1)*self.batch_size]\n",
    "        batch_y = self.y[idx*self.batch_size:(idx+1)*self.batch_size]\n",
    "        \n",
    "        batch_x = self.__generate_data(spects)\n",
    "        \n",
    "        #print(batch_x.shape)\n",
    "        #print(batch_y.shape)\n",
    "        \n",
    "        return batch_x,batch_y\n",
    "    \n",
    "    def __generate_data(self,spects):\n",
    "        n_mels,frames = self.input_shape\n",
    "        x_batch = np.zeros((len(spects),n_mels,frames))\n",
    "        \n",
    "        for i, spect in enumerate(spects):\n",
    "            freq_res,time_res = spect.shape\n",
    "            \n",
    "            max_start = time_res-frames\n",
    "            if max_start == 0:\n",
    "                start = 0\n",
    "            else:\n",
    "                start = np.random.randint(0,max_start)\n",
    "            end = start+frames\n",
    "            \n",
    "            x_batch[i] = spect[:,start:end]\n",
    "        \n",
    "        return x_batch"
   ]
  },
  {
   "cell_type": "markdown",
   "metadata": {},
   "source": [
    "# Malley CNN"
   ]
  },
  {
   "cell_type": "code",
   "execution_count": 14,
   "metadata": {},
   "outputs": [],
   "source": [
    "from keras.layers import Conv2D, MaxPool2D, Dropout, Activation\n",
    "from keras.layers import GlobalMaxPool2D, Dense, Input\n",
    "from keras.layers import Lambda\n",
    "from keras.models import Model\n",
    "from keras.activations import relu, softmax\n",
    "from keras.backend import expand_dims\n",
    "from keras.optimizers import Adam\n",
    "from kapre.time_frequency import Melspectrogram\n",
    "from kapre.utils import Normalization2D"
   ]
  },
  {
   "cell_type": "code",
   "execution_count": 15,
   "metadata": {},
   "outputs": [],
   "source": [
    "def malley_cnn_80(input_shape, n_classes):\n",
    "\n",
    "    X_input = Input(input_shape)\n",
    "    \n",
    "    X = Lambda(lambda q: expand_dims(q, -1), name='expand_dims') (X_input)\n",
    "    \n",
    "    X = Conv2D(64,[3,7],padding = 'same')(X)\n",
    "    X = Activation(relu)(X)\n",
    "    X = MaxPool2D([2,1])(X)\n",
    "    \n",
    "    X = Conv2D(128,[7,1],padding = 'same')(X)\n",
    "    X = Activation('relu')(X)\n",
    "    X = MaxPool2D([4,1])(X)\n",
    "    \n",
    "    X = Conv2D(256,[10,1],padding = 'valid')(X)\n",
    "    X = Activation('relu')(X)\n",
    "    \n",
    "    X = Conv2D(512,[1,7],padding = 'same')(X)\n",
    "    X = Activation('relu')(X)\n",
    "    \n",
    "    X = GlobalMaxPool2D()(X)\n",
    "    \n",
    "    X = Dense(512,activation = 'relu')(X)\n",
    "    X = Dropout(0.5)(X)\n",
    "    \n",
    "    X = Dense(n_classes, activation = 'softmax')(X)\n",
    "\n",
    "    model = Model(inputs = X_input, outputs = X)\n",
    "    \n",
    "    return model"
   ]
  },
  {
   "cell_type": "code",
   "execution_count": 16,
   "metadata": {},
   "outputs": [
    {
     "name": "stdout",
     "output_type": "stream",
     "text": [
      "_________________________________________________________________\n",
      "Layer (type)                 Output Shape              Param #   \n",
      "=================================================================\n",
      "input_1 (InputLayer)         (None, 80, 125)           0         \n",
      "_________________________________________________________________\n",
      "expand_dims (Lambda)         (None, 80, 125, 1)        0         \n",
      "_________________________________________________________________\n",
      "conv2d_1 (Conv2D)            (None, 80, 125, 64)       1408      \n",
      "_________________________________________________________________\n",
      "activation_1 (Activation)    (None, 80, 125, 64)       0         \n",
      "_________________________________________________________________\n",
      "max_pooling2d_1 (MaxPooling2 (None, 40, 125, 64)       0         \n",
      "_________________________________________________________________\n",
      "conv2d_2 (Conv2D)            (None, 40, 125, 128)      57472     \n",
      "_________________________________________________________________\n",
      "activation_2 (Activation)    (None, 40, 125, 128)      0         \n",
      "_________________________________________________________________\n",
      "max_pooling2d_2 (MaxPooling2 (None, 10, 125, 128)      0         \n",
      "_________________________________________________________________\n",
      "conv2d_3 (Conv2D)            (None, 1, 125, 256)       327936    \n",
      "_________________________________________________________________\n",
      "activation_3 (Activation)    (None, 1, 125, 256)       0         \n",
      "_________________________________________________________________\n",
      "conv2d_4 (Conv2D)            (None, 1, 125, 512)       918016    \n",
      "_________________________________________________________________\n",
      "activation_4 (Activation)    (None, 1, 125, 512)       0         \n",
      "_________________________________________________________________\n",
      "global_max_pooling2d_1 (Glob (None, 512)               0         \n",
      "_________________________________________________________________\n",
      "dense_1 (Dense)              (None, 512)               262656    \n",
      "_________________________________________________________________\n",
      "dropout_1 (Dropout)          (None, 512)               0         \n",
      "_________________________________________________________________\n",
      "dense_2 (Dense)              (None, 6)                 3078      \n",
      "=================================================================\n",
      "Total params: 1,570,566\n",
      "Trainable params: 1,570,566\n",
      "Non-trainable params: 0\n",
      "_________________________________________________________________\n"
     ]
    }
   ],
   "source": [
    "input_shape = ([n_mels,frames])\n",
    "lr = 0.001\n",
    "malley = malley_cnn_80(input_shape,n_meta_classes)\n",
    "malley.summary()"
   ]
  },
  {
   "cell_type": "code",
   "execution_count": 17,
   "metadata": {},
   "outputs": [],
   "source": [
    "malley.compile(optimizer=Adam(lr),loss = 'sparse_categorical_crossentropy',metrics = ['accuracy'])"
   ]
  },
  {
   "cell_type": "markdown",
   "metadata": {},
   "source": [
    "### Split Dataset and make Generators"
   ]
  },
  {
   "cell_type": "code",
   "execution_count": 18,
   "metadata": {},
   "outputs": [],
   "source": [
    "from sklearn.model_selection import train_test_split"
   ]
  },
  {
   "cell_type": "code",
   "execution_count": 19,
   "metadata": {},
   "outputs": [],
   "source": [
    "#X_train_n,X_val_n,y_train_n,y_val_n = train_test_split(X_noisy,y_noisy,test_size=0.1, random_state=7)"
   ]
  },
  {
   "cell_type": "code",
   "execution_count": 20,
   "metadata": {},
   "outputs": [],
   "source": [
    "X_train_a,X_val_a,y_train_a,y_val_a = train_test_split(x_train,meta_labels_all,test_size=0.1, random_state=7)"
   ]
  },
  {
   "cell_type": "code",
   "execution_count": 21,
   "metadata": {},
   "outputs": [],
   "source": [
    "#train_generator_n = DataGenerator(X_train_n,y_train_n)\n",
    "#val_generator_n = DataGenerator(X_val_n,y_val_n)"
   ]
  },
  {
   "cell_type": "code",
   "execution_count": 22,
   "metadata": {},
   "outputs": [],
   "source": [
    "train_generator_a = DataGenerator(X_train_a,y_train_a)\n",
    "val_generator_a = DataGenerator(X_val_a,y_val_a)"
   ]
  },
  {
   "cell_type": "markdown",
   "metadata": {},
   "source": [
    "### Train the Model"
   ]
  },
  {
   "cell_type": "code",
   "execution_count": 23,
   "metadata": {},
   "outputs": [],
   "source": [
    "from tensorflow.keras.callbacks import ModelCheckpoint"
   ]
  },
  {
   "cell_type": "code",
   "execution_count": 24,
   "metadata": {},
   "outputs": [],
   "source": [
    "best_filepath = './weights.best.hdf5'"
   ]
  },
  {
   "cell_type": "code",
   "execution_count": 28,
   "metadata": {},
   "outputs": [],
   "source": [
    "checkpoint = ModelCheckpoint(best_filepath,monitor='val_acc',save_best_only=True, mode='max')\n",
    "callbacks_list = [checkpoint]"
   ]
  },
  {
   "cell_type": "code",
   "execution_count": 29,
   "metadata": {
    "scrolled": false
   },
   "outputs": [
    {
     "name": "stdout",
     "output_type": "stream",
     "text": [
      "Epoch 1/50\n",
      "67/67 [==============================] - 13s 198ms/step - loss: 0.5930 - acc: 0.7893 - val_loss: 0.6250 - val_acc: 0.7785\n",
      "Epoch 2/50\n",
      "67/67 [==============================] - 13s 201ms/step - loss: 0.5132 - acc: 0.8217 - val_loss: 0.5202 - val_acc: 0.8207\n",
      "Epoch 3/50\n",
      "67/67 [==============================] - 13s 199ms/step - loss: 0.4686 - acc: 0.8361 - val_loss: 0.4901 - val_acc: 0.8228\n",
      "Epoch 4/50\n",
      "67/67 [==============================] - 13s 200ms/step - loss: 0.4275 - acc: 0.8488 - val_loss: 0.5116 - val_acc: 0.8091\n",
      "Epoch 5/50\n",
      "67/67 [==============================] - 13s 201ms/step - loss: 0.4024 - acc: 0.8623 - val_loss: 0.4388 - val_acc: 0.8428\n",
      "Epoch 6/50\n",
      "67/67 [==============================] - 13s 201ms/step - loss: 0.3705 - acc: 0.8701 - val_loss: 0.4140 - val_acc: 0.8523\n",
      "Epoch 7/50\n",
      "67/67 [==============================] - 13s 200ms/step - loss: 0.3248 - acc: 0.8827 - val_loss: 0.4162 - val_acc: 0.8439\n",
      "Epoch 8/50\n",
      "67/67 [==============================] - 13s 200ms/step - loss: 0.3085 - acc: 0.8899 - val_loss: 0.4156 - val_acc: 0.8513\n",
      "Epoch 9/50\n",
      "67/67 [==============================] - 13s 200ms/step - loss: 0.2857 - acc: 0.9042 - val_loss: 0.4038 - val_acc: 0.8671\n",
      "Epoch 10/50\n",
      "67/67 [==============================] - 13s 201ms/step - loss: 0.2662 - acc: 0.9077 - val_loss: 0.3966 - val_acc: 0.8787\n",
      "Epoch 11/50\n",
      "67/67 [==============================] - 13s 201ms/step - loss: 0.2466 - acc: 0.9139 - val_loss: 0.3850 - val_acc: 0.8724\n",
      "Epoch 12/50\n",
      "67/67 [==============================] - 13s 201ms/step - loss: 0.2176 - acc: 0.9260 - val_loss: 0.4194 - val_acc: 0.8745\n",
      "Epoch 13/50\n",
      "67/67 [==============================] - 13s 201ms/step - loss: 0.2240 - acc: 0.9208 - val_loss: 0.3674 - val_acc: 0.8935\n",
      "Epoch 14/50\n",
      "67/67 [==============================] - 14s 202ms/step - loss: 0.1937 - acc: 0.9337 - val_loss: 0.3793 - val_acc: 0.8819\n",
      "Epoch 15/50\n",
      "67/67 [==============================] - 13s 201ms/step - loss: 0.1769 - acc: 0.9420 - val_loss: 0.3847 - val_acc: 0.8829\n",
      "Epoch 16/50\n",
      "67/67 [==============================] - 13s 201ms/step - loss: 0.1706 - acc: 0.9417 - val_loss: 0.4048 - val_acc: 0.8892\n",
      "Epoch 17/50\n",
      "67/67 [==============================] - 13s 201ms/step - loss: 0.1508 - acc: 0.9484 - val_loss: 0.4634 - val_acc: 0.8797\n",
      "Epoch 18/50\n",
      "67/67 [==============================] - 14s 202ms/step - loss: 0.1526 - acc: 0.9466 - val_loss: 0.5117 - val_acc: 0.8724\n",
      "Epoch 19/50\n",
      "67/67 [==============================] - 13s 201ms/step - loss: 0.1483 - acc: 0.9513 - val_loss: 0.4731 - val_acc: 0.8724\n",
      "Epoch 20/50\n",
      "67/67 [==============================] - 13s 201ms/step - loss: 0.1450 - acc: 0.9482 - val_loss: 0.4205 - val_acc: 0.8819\n",
      "Epoch 21/50\n",
      "67/67 [==============================] - 13s 201ms/step - loss: 0.1322 - acc: 0.9553 - val_loss: 0.4150 - val_acc: 0.8977\n",
      "Epoch 22/50\n",
      "67/67 [==============================] - 13s 201ms/step - loss: 0.1295 - acc: 0.9554 - val_loss: 0.3889 - val_acc: 0.8850\n",
      "Epoch 23/50\n",
      "67/67 [==============================] - 14s 202ms/step - loss: 0.1160 - acc: 0.9593 - val_loss: 0.4568 - val_acc: 0.8755\n",
      "Epoch 24/50\n",
      "67/67 [==============================] - 14s 202ms/step - loss: 0.1105 - acc: 0.9617 - val_loss: 0.4166 - val_acc: 0.8966\n",
      "Epoch 25/50\n",
      "67/67 [==============================] - 14s 205ms/step - loss: 0.1053 - acc: 0.9649 - val_loss: 0.4790 - val_acc: 0.8808\n",
      "Epoch 26/50\n",
      "67/67 [==============================] - 13s 200ms/step - loss: 0.0968 - acc: 0.9667 - val_loss: 0.4994 - val_acc: 0.8914\n",
      "Epoch 27/50\n",
      "67/67 [==============================] - 13s 200ms/step - loss: 0.1085 - acc: 0.9628 - val_loss: 0.4678 - val_acc: 0.8903\n",
      "Epoch 28/50\n",
      "67/67 [==============================] - 13s 200ms/step - loss: 0.0880 - acc: 0.9720 - val_loss: 0.4951 - val_acc: 0.8998\n",
      "Epoch 29/50\n",
      "67/67 [==============================] - 13s 200ms/step - loss: 0.0871 - acc: 0.9671 - val_loss: 0.4940 - val_acc: 0.8892\n",
      "Epoch 30/50\n",
      "67/67 [==============================] - 13s 200ms/step - loss: 0.1010 - acc: 0.9668 - val_loss: 0.4938 - val_acc: 0.8787\n",
      "Epoch 31/50\n",
      "67/67 [==============================] - 13s 200ms/step - loss: 0.0988 - acc: 0.9656 - val_loss: 0.4826 - val_acc: 0.8745\n",
      "Epoch 32/50\n",
      "67/67 [==============================] - 13s 200ms/step - loss: 0.0874 - acc: 0.9692 - val_loss: 0.4657 - val_acc: 0.8861\n",
      "Epoch 33/50\n",
      "67/67 [==============================] - 13s 200ms/step - loss: 0.0891 - acc: 0.9711 - val_loss: 0.4050 - val_acc: 0.8914\n",
      "Epoch 34/50\n",
      "67/67 [==============================] - 13s 200ms/step - loss: 0.0847 - acc: 0.9725 - val_loss: 0.4896 - val_acc: 0.8903\n",
      "Epoch 35/50\n",
      "67/67 [==============================] - 13s 200ms/step - loss: 0.0791 - acc: 0.9729 - val_loss: 0.5316 - val_acc: 0.8829\n",
      "Epoch 36/50\n",
      "67/67 [==============================] - 13s 199ms/step - loss: 0.0817 - acc: 0.9726 - val_loss: 0.5492 - val_acc: 0.8829\n",
      "Epoch 37/50\n",
      "67/67 [==============================] - 13s 199ms/step - loss: 0.0851 - acc: 0.9723 - val_loss: 0.5175 - val_acc: 0.8850\n",
      "Epoch 38/50\n",
      "67/67 [==============================] - 13s 199ms/step - loss: 0.0612 - acc: 0.9790 - val_loss: 0.5089 - val_acc: 0.8861\n",
      "Epoch 39/50\n",
      "67/67 [==============================] - 13s 199ms/step - loss: 0.0807 - acc: 0.9739 - val_loss: 0.5736 - val_acc: 0.8745\n",
      "Epoch 40/50\n",
      "67/67 [==============================] - 13s 199ms/step - loss: 0.0740 - acc: 0.9745 - val_loss: 0.5157 - val_acc: 0.8840\n",
      "Epoch 41/50\n",
      "67/67 [==============================] - 13s 200ms/step - loss: 0.0623 - acc: 0.9790 - val_loss: 0.5519 - val_acc: 0.8829\n",
      "Epoch 42/50\n",
      "67/67 [==============================] - 13s 199ms/step - loss: 0.0659 - acc: 0.9773 - val_loss: 0.4506 - val_acc: 0.9008\n",
      "Epoch 43/50\n",
      "67/67 [==============================] - 13s 199ms/step - loss: 0.0675 - acc: 0.9768 - val_loss: 0.5196 - val_acc: 0.8829\n",
      "Epoch 44/50\n",
      "67/67 [==============================] - 13s 199ms/step - loss: 0.0569 - acc: 0.9806 - val_loss: 0.4816 - val_acc: 0.8914\n",
      "Epoch 45/50\n",
      "67/67 [==============================] - 13s 199ms/step - loss: 0.0501 - acc: 0.9823 - val_loss: 0.5845 - val_acc: 0.8797\n",
      "Epoch 46/50\n",
      "67/67 [==============================] - 13s 199ms/step - loss: 0.0571 - acc: 0.9830 - val_loss: 0.5230 - val_acc: 0.8998\n",
      "Epoch 47/50\n",
      "67/67 [==============================] - 13s 198ms/step - loss: 0.0495 - acc: 0.9839 - val_loss: 0.5266 - val_acc: 0.8861\n",
      "Epoch 48/50\n",
      "67/67 [==============================] - 13s 198ms/step - loss: 0.0581 - acc: 0.9805 - val_loss: 0.7757 - val_acc: 0.8734\n",
      "Epoch 49/50\n",
      "67/67 [==============================] - 13s 198ms/step - loss: 0.0786 - acc: 0.9733 - val_loss: 0.5721 - val_acc: 0.8745\n",
      "Epoch 50/50\n",
      "67/67 [==============================] - 13s 199ms/step - loss: 0.0711 - acc: 0.9772 - val_loss: 0.5336 - val_acc: 0.8945\n"
     ]
    },
    {
     "data": {
      "text/plain": [
       "<keras.callbacks.History at 0x7ff3fcceccf8>"
      ]
     },
     "execution_count": 29,
     "metadata": {},
     "output_type": "execute_result"
    }
   ],
   "source": [
    "malley.fit_generator(train_generator_a,epochs = 50,validation_data=val_generator_a, callbacks = callbacks_list)"
   ]
  },
  {
   "cell_type": "code",
   "execution_count": 37,
   "metadata": {},
   "outputs": [],
   "source": [
    "malley.load_weights('./weights.best.hdf5')"
   ]
  },
  {
   "cell_type": "code",
   "execution_count": 38,
   "metadata": {},
   "outputs": [],
   "source": [
    "x_test_2 = np.zeros((1600,80,125))\n",
    "\n",
    "for i, this_x in enumerate(x_test):\n",
    "    \n",
    "    this_frames = this_x.shape[1]\n",
    "    \n",
    "    if this_frames > 125:\n",
    "        max_start = this_frames - 125\n",
    "        start = np.random.randint(0,max_start)\n",
    "        end = start+125\n",
    "\n",
    "        this_x = this_x[:,start:end]\n",
    "        \n",
    "    x_test_2[i] = this_x"
   ]
  },
  {
   "cell_type": "code",
   "execution_count": 39,
   "metadata": {},
   "outputs": [
    {
     "name": "stdout",
     "output_type": "stream",
     "text": [
      "1600/1600 [==============================] - 1s 552us/step\n"
     ]
    },
    {
     "data": {
      "text/plain": [
       "[0.40245600625872613, 0.913125]"
      ]
     },
     "execution_count": 39,
     "metadata": {},
     "output_type": "execute_result"
    }
   ],
   "source": [
    "malley.evaluate(x_test_2,meta_labels_test)"
   ]
  },
  {
   "cell_type": "code",
   "execution_count": 43,
   "metadata": {},
   "outputs": [],
   "source": [
    "malley.save_weights('./weights_test1_malley_mc_v3.h5')"
   ]
  },
  {
   "cell_type": "code",
   "execution_count": null,
   "metadata": {},
   "outputs": [],
   "source": []
  },
  {
   "cell_type": "code",
   "execution_count": 40,
   "metadata": {},
   "outputs": [],
   "source": [
    "y_scores = malley.predict(x_test_2)"
   ]
  },
  {
   "cell_type": "code",
   "execution_count": 41,
   "metadata": {},
   "outputs": [],
   "source": [
    "y_hat = np.argmax(y_scores, axis = 1)"
   ]
  },
  {
   "cell_type": "code",
   "execution_count": 42,
   "metadata": {},
   "outputs": [
    {
     "data": {
      "text/plain": [
       "array([0, 2, 0, ..., 2, 5, 0])"
      ]
     },
     "execution_count": 42,
     "metadata": {},
     "output_type": "execute_result"
    }
   ],
   "source": [
    "y_hat"
   ]
  },
  {
   "cell_type": "markdown",
   "metadata": {},
   "source": [
    "### Plot Confussion Matrix"
   ]
  },
  {
   "cell_type": "code",
   "execution_count": 44,
   "metadata": {},
   "outputs": [],
   "source": [
    "from sklearn.metrics import confusion_matrix\n",
    "from mpl_toolkits.axes_grid1 import make_axes_locatable"
   ]
  },
  {
   "cell_type": "code",
   "execution_count": 45,
   "metadata": {},
   "outputs": [],
   "source": [
    "cm = confusion_matrix(meta_labels_test,y_hat)"
   ]
  },
  {
   "cell_type": "code",
   "execution_count": 46,
   "metadata": {},
   "outputs": [
    {
     "data": {
      "image/png": "[encoded data removed]",
      "text/plain": [
       "<Figure size 1080x1080 with 2 Axes>"
      ]
     },
     "metadata": {
      "needs_background": "light"
     },
     "output_type": "display_data"
    }
   ],
   "source": [
    "normalize = True\n",
    "\n",
    "\n",
    "fig, ax = plt.subplots(1,1,figsize = (15,15))\n",
    "#plt.colorbar(im1,ax = ax)\n",
    "\n",
    "if normalize:\n",
    "    ax.set_title('Normalized Confussion Matrix for Meta Classes')\n",
    "    cm = cm.astype('float') / cm.sum(axis=1)[:, np.newaxis]\n",
    "\n",
    "im1 = ax.imshow(cm, cmap = plt.cm.Blues)\n",
    "\n",
    "divider = make_axes_locatable(ax)\n",
    "cax = divider.append_axes(\"right\", size=\"5%\", pad=0.05)\n",
    "\n",
    "plt.colorbar(im1, cax=cax)\n",
    "\n",
    "fig = ax.set(xlabel = 'Predicted', ylabel = 'True')\n",
    "fig = ax.set_xticks(np.arange(len(np.unique(y_hat))))\n",
    "#fig = ax.set_xticklabels(c1_to_name.values())\n",
    "\n",
    "fig = ax.set_yticks(np.arange(len(np.unique(y_hat))))\n",
    "#fig = ax.set_yticklabels(c1_to_name.values())\n",
    "\n",
    "fmt = '.2f' if normalize else 'd'\n",
    "\n",
    "#fmt = 'd'\n",
    "thresh = cm.max() / 2.\n",
    "\n",
    "for i in range(cm.shape[0]):\n",
    "        for j in range(cm.shape[1]):\n",
    "            ax.text(j, i, format(cm[i, j], fmt),\n",
    "                    ha=\"center\", va=\"center\",\n",
    "                    color=\"white\" if cm[i, j] > thresh else \"black\")"
   ]
  },
  {
   "cell_type": "code",
   "execution_count": 37,
   "metadata": {},
   "outputs": [],
   "source": [
    "#malley.save_weights('./weights_mc_malley_v2.h5')"
   ]
  },
  {
   "cell_type": "code",
   "execution_count": null,
   "metadata": {},
   "outputs": [],
   "source": []
  },
  {
   "cell_type": "code",
   "execution_count": null,
   "metadata": {},
   "outputs": [],
   "source": []
  },
  {
   "cell_type": "code",
   "execution_count": null,
   "metadata": {},
   "outputs": [],
   "source": []
  },
  {
   "cell_type": "code",
   "execution_count": null,
   "metadata": {},
   "outputs": [],
   "source": []
  },
  {
   "cell_type": "code",
   "execution_count": null,
   "metadata": {},
   "outputs": [],
   "source": []
  }
 ],
 "metadata": {
  "kernelspec": {
   "display_name": "Python 3",
   "language": "python",
   "name": "python3"
  },
  "language_info": {
   "codemirror_mode": {
    "name": "ipython",
    "version": 3
   },
   "file_extension": ".py",
   "mimetype": "text/x-python",
   "name": "python",
   "nbconvert_exporter": "python",
   "pygments_lexer": "ipython3",
   "version": "3.6.7"
  }
 },
 "nbformat": 4,
 "nbformat_minor": 1
}
