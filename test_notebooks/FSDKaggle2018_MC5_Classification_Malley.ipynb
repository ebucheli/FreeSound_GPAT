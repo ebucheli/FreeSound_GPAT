{
 "cells": [
  {
   "cell_type": "code",
   "execution_count": 1,
   "metadata": {
    "_cell_guid": "b1076dfc-b9ad-4769-8c92-a6c4dae69d19",
    "_uuid": "8f2839f25d086af736a60e9eeb907d3b93b6e0e5"
   },
   "outputs": [],
   "source": [
    "import numpy as np\n",
    "import pandas as pd\n",
    "import matplotlib.pyplot as plt\n",
    "import librosa\n",
    "import librosa.display\n",
    "from IPython.display import Audio\n",
    "\n",
    "import os\n",
    "import pickle\n",
    "import json\n",
    "\n",
    "from tqdm import tqdm_notebook"
   ]
  },
  {
   "cell_type": "code",
   "execution_count": 2,
   "metadata": {},
   "outputs": [],
   "source": [
    "#path_dataset = '../input/'\n",
    "path_dataset = '/home/edoardobucheli/Datasets/FSDKaggle2018'\n",
    "\n",
    "path_train = os.path.join(path_dataset,'audio_train_16k')\n",
    "path_test = os.path.join(path_dataset,'audio_test_16k')"
   ]
  },
  {
   "cell_type": "markdown",
   "metadata": {},
   "source": [
    "### Load Label Data"
   ]
  },
  {
   "cell_type": "code",
   "execution_count": 3,
   "metadata": {},
   "outputs": [],
   "source": [
    "train_data = pd.read_csv(os.path.join(path_dataset,'train_post_competition.csv'))\n",
    "test_data = pd.read_csv(os.path.join(path_dataset,'test_post_competition_scoring_clips.csv'))"
   ]
  },
  {
   "cell_type": "code",
   "execution_count": 4,
   "metadata": {},
   "outputs": [],
   "source": [
    "from utilities import get_all_classes_dict, get_classes_to_meta_dict, get_labels"
   ]
  },
  {
   "cell_type": "code",
   "execution_count": 5,
   "metadata": {},
   "outputs": [],
   "source": [
    "num_to_label, label_to_num, n_classes = get_all_classes_dict(train_data)\n",
    "label_to_meta, label_num_to_meta = get_classes_to_meta_dict(label_to_num)"
   ]
  },
  {
   "cell_type": "code",
   "execution_count": 6,
   "metadata": {},
   "outputs": [],
   "source": [
    "data_cur = train_data[train_data['manually_verified']==1]\n",
    "data_noi = train_data[train_data['manually_verified']==0]"
   ]
  },
  {
   "cell_type": "code",
   "execution_count": 7,
   "metadata": {},
   "outputs": [],
   "source": [
    "meta_labels_all, labels_all = get_labels(train_data,label_to_meta, label_to_num)\n",
    "meta_labels_cur, labels_cur = get_labels(data_cur,label_to_meta, label_to_num)\n",
    "meta_labels_noi, labels_noi = get_labels(data_noi,label_to_meta, label_to_num)\n",
    "meta_labels_test, labels_test = get_labels(test_data,label_to_meta, label_to_num)"
   ]
  },
  {
   "cell_type": "code",
   "execution_count": 8,
   "metadata": {},
   "outputs": [],
   "source": [
    "n_meta_classes = len(np.unique(meta_labels_all))"
   ]
  },
  {
   "cell_type": "code",
   "execution_count": 9,
   "metadata": {},
   "outputs": [],
   "source": [
    "is_curated = train_data['manually_verified'].tolist()\n",
    "indx_curated = [i for i,f in enumerate(is_curated) if f == 1]"
   ]
  },
  {
   "cell_type": "markdown",
   "metadata": {},
   "source": [
    "### Load Data"
   ]
  },
  {
   "cell_type": "code",
   "execution_count": 10,
   "metadata": {},
   "outputs": [],
   "source": [
    "pickle_train = './preprocessed_train/MS-80-HL512-WF16k-64k'\n",
    "pickle_test = './preprocessed_test/MS-80-HL512-WF16k-64k'"
   ]
  },
  {
   "cell_type": "code",
   "execution_count": 11,
   "metadata": {},
   "outputs": [],
   "source": [
    "with open(pickle_train,'rb') as fp:\n",
    "    x_train = pickle.load(fp)\n",
    "with open(pickle_test, 'rb') as fp:\n",
    "    x_test = pickle.load(fp)"
   ]
  },
  {
   "cell_type": "markdown",
   "metadata": {},
   "source": [
    "### Separate Curated and MC"
   ]
  },
  {
   "cell_type": "code",
   "execution_count": 12,
   "metadata": {},
   "outputs": [],
   "source": [
    "x_cur = [x_train[f] for f in indx_curated]"
   ]
  },
  {
   "cell_type": "code",
   "execution_count": 13,
   "metadata": {},
   "outputs": [],
   "source": [
    "my_x = x_train\n",
    "meta_labels = meta_labels_all\n",
    "my_labels = labels_all"
   ]
  },
  {
   "cell_type": "code",
   "execution_count": 14,
   "metadata": {},
   "outputs": [],
   "source": [
    "indx_mc = [i for i,f in enumerate(meta_labels) if f == 5]"
   ]
  },
  {
   "cell_type": "code",
   "execution_count": 15,
   "metadata": {},
   "outputs": [],
   "source": [
    "x_mc = [my_x[f] for f in indx_mc]\n",
    "labels_mc = [my_labels[f] for f in indx_mc]\n",
    "labels_name_mc = [num_to_label[f] for f in labels_mc]\n",
    "\n",
    "mc_new_label_mapping = dict([[f,i] for i,f in enumerate(np.unique(labels_mc))])\n",
    "new_train_labels_mc = [mc_new_label_mapping[f] for f in labels_mc]"
   ]
  },
  {
   "cell_type": "code",
   "execution_count": 16,
   "metadata": {},
   "outputs": [],
   "source": [
    "indx_unk = [i for i in np.random.randint(0,len(my_x),len(x_mc))if i not in indx_mc]\n",
    "x_unk = [my_x[f] for f in indx_unk]\n",
    "labels_unk = np.ones((len(indx_unk),))*(len(np.unique(new_train_labels_mc)))"
   ]
  },
  {
   "cell_type": "code",
   "execution_count": 17,
   "metadata": {},
   "outputs": [],
   "source": [
    "x_mc_2 = x_mc + x_unk\n",
    "new_train_labels_mc.extend(labels_unk)"
   ]
  },
  {
   "cell_type": "code",
   "execution_count": 18,
   "metadata": {},
   "outputs": [],
   "source": [
    "#with open('./c0_mapping','wb') as fp:\n",
    "#    pickle.dump(c0_new_label_mapping,fp)"
   ]
  },
  {
   "cell_type": "code",
   "execution_count": 19,
   "metadata": {},
   "outputs": [],
   "source": [
    "indx_test_mc = [i for i,f in enumerate(meta_labels_test) if f == 5]"
   ]
  },
  {
   "cell_type": "code",
   "execution_count": 20,
   "metadata": {},
   "outputs": [],
   "source": [
    "x_test_mc = [x_test[f] for f in indx_test_mc]\n",
    "labels_test_mc = [labels_test[f] for f in indx_test_mc]\n",
    "new_test_labels_mc = [mc_new_label_mapping[f] for f in labels_test_mc]"
   ]
  },
  {
   "cell_type": "code",
   "execution_count": 21,
   "metadata": {},
   "outputs": [],
   "source": [
    "indx_unk_test = [i for i in np.random.randint(0,len(x_test),len(x_test_mc)) if i not in indx_test_mc]\n",
    "x_unk_test = [x_test[f] for f in indx_unk_test]\n",
    "labels_unk_test = np.ones((len(indx_unk_test),))*(len(np.unique(new_test_labels_mc)))"
   ]
  },
  {
   "cell_type": "code",
   "execution_count": 22,
   "metadata": {},
   "outputs": [],
   "source": [
    "x_test_mc_2 = x_test_mc+x_unk_test\n",
    "new_test_labels_mc.extend(labels_unk_test)"
   ]
  },
  {
   "cell_type": "code",
   "execution_count": 23,
   "metadata": {},
   "outputs": [],
   "source": [
    "sr = 16000\n",
    "file_length = sr*4\n",
    "hop_length = 512\n",
    "n_mels = 80\n",
    "\n",
    "frames = int(np.ceil(file_length/hop_length))"
   ]
  },
  {
   "cell_type": "markdown",
   "metadata": {},
   "source": [
    "# Malley CNN"
   ]
  },
  {
   "cell_type": "code",
   "execution_count": 24,
   "metadata": {},
   "outputs": [],
   "source": [
    "from CNNetworks2D import malley_cnn_80\n",
    "from tensorflow.keras.optimizers import Adam\n",
    "import tensorflow as tf"
   ]
  },
  {
   "cell_type": "code",
   "execution_count": 25,
   "metadata": {},
   "outputs": [],
   "source": [
    "input_shape = ([n_mels,frames])\n",
    "lr = 0.001\n",
    "model = malley_cnn_80(input_shape,41)\n",
    "model.load_weights('./weights_m41.h5')\n",
    "#model.summary()"
   ]
  },
  {
   "cell_type": "code",
   "execution_count": 26,
   "metadata": {},
   "outputs": [],
   "source": [
    "new_output_name = 'global_max_pooling2d'\n",
    "new_output_layer = model.get_layer(new_output_name).output\n",
    "model_headless = tf.keras.Model(inputs = model.input, outputs = new_output_layer)"
   ]
  },
  {
   "cell_type": "code",
   "execution_count": 27,
   "metadata": {},
   "outputs": [],
   "source": [
    "#model_headless.trainable = False"
   ]
  },
  {
   "cell_type": "code",
   "execution_count": 28,
   "metadata": {},
   "outputs": [],
   "source": [
    "X = tf.keras.layers.Dense(512,activation='relu')(model_headless.output)\n",
    "X = tf.keras.layers.Dropout(0.5)(X)\n",
    "X = tf.keras.layers.Dense(len(mc_new_label_mapping)+1, activation = 'softmax')(X)"
   ]
  },
  {
   "cell_type": "code",
   "execution_count": 29,
   "metadata": {},
   "outputs": [],
   "source": [
    "model = tf.keras.Model(inputs = model_headless.input, outputs = X)"
   ]
  },
  {
   "cell_type": "code",
   "execution_count": 30,
   "metadata": {},
   "outputs": [],
   "source": [
    "for l in model.layers[:13]:\n",
    "    l.trainable = False"
   ]
  },
  {
   "cell_type": "code",
   "execution_count": 31,
   "metadata": {
    "scrolled": true
   },
   "outputs": [
    {
     "name": "stdout",
     "output_type": "stream",
     "text": [
      "_________________________________________________________________\n",
      "Layer (type)                 Output Shape              Param #   \n",
      "=================================================================\n",
      "input_1 (InputLayer)         (None, 80, 125)           0         \n",
      "_________________________________________________________________\n",
      "expand_dims (Lambda)         (None, 80, 125, 1)        0         \n",
      "_________________________________________________________________\n",
      "conv2d (Conv2D)              (None, 80, 125, 64)       1408      \n",
      "_________________________________________________________________\n",
      "activation (Activation)      (None, 80, 125, 64)       0         \n",
      "_________________________________________________________________\n",
      "max_pooling2d (MaxPooling2D) (None, 40, 125, 64)       0         \n",
      "_________________________________________________________________\n",
      "conv2d_1 (Conv2D)            (None, 40, 125, 128)      57472     \n",
      "_________________________________________________________________\n",
      "activation_1 (Activation)    (None, 40, 125, 128)      0         \n",
      "_________________________________________________________________\n",
      "max_pooling2d_1 (MaxPooling2 (None, 10, 125, 128)      0         \n",
      "_________________________________________________________________\n",
      "conv2d_2 (Conv2D)            (None, 1, 125, 256)       327936    \n",
      "_________________________________________________________________\n",
      "activation_2 (Activation)    (None, 1, 125, 256)       0         \n",
      "_________________________________________________________________\n",
      "conv2d_3 (Conv2D)            (None, 1, 125, 512)       918016    \n",
      "_________________________________________________________________\n",
      "activation_3 (Activation)    (None, 1, 125, 512)       0         \n",
      "_________________________________________________________________\n",
      "global_max_pooling2d (Global (None, 512)               0         \n",
      "_________________________________________________________________\n",
      "dense_2 (Dense)              (None, 512)               262656    \n",
      "_________________________________________________________________\n",
      "dropout_1 (Dropout)          (None, 512)               0         \n",
      "_________________________________________________________________\n",
      "dense_3 (Dense)              (None, 5)                 2565      \n",
      "=================================================================\n",
      "Total params: 1,570,053\n",
      "Trainable params: 265,221\n",
      "Non-trainable params: 1,304,832\n",
      "_________________________________________________________________\n"
     ]
    }
   ],
   "source": [
    "model.summary()"
   ]
  },
  {
   "cell_type": "code",
   "execution_count": 32,
   "metadata": {},
   "outputs": [],
   "source": [
    "model.compile(optimizer=Adam(lr),loss = 'sparse_categorical_crossentropy',metrics = ['accuracy'])"
   ]
  },
  {
   "cell_type": "markdown",
   "metadata": {},
   "source": [
    "### Make Generators"
   ]
  },
  {
   "cell_type": "code",
   "execution_count": 33,
   "metadata": {},
   "outputs": [],
   "source": [
    "from data_generator import DataGenerator"
   ]
  },
  {
   "cell_type": "code",
   "execution_count": 34,
   "metadata": {},
   "outputs": [],
   "source": [
    "new_order = np.arange(len(x_mc_2))\n",
    "np.random.shuffle(new_order)"
   ]
  },
  {
   "cell_type": "code",
   "execution_count": 35,
   "metadata": {},
   "outputs": [],
   "source": [
    "x_mc_2 = [x_mc_2[i] for i in new_order]\n",
    "new_train_labels_mc = [new_train_labels_mc[i] for i in new_order]"
   ]
  },
  {
   "cell_type": "code",
   "execution_count": 36,
   "metadata": {},
   "outputs": [],
   "source": [
    "train_generator = DataGenerator(x_mc_2,new_train_labels_mc)\n",
    "val_generator = DataGenerator(x_test_mc_2,new_test_labels_mc)"
   ]
  },
  {
   "cell_type": "markdown",
   "metadata": {},
   "source": [
    "### Train the Model"
   ]
  },
  {
   "cell_type": "code",
   "execution_count": 37,
   "metadata": {
    "scrolled": false
   },
   "outputs": [
    {
     "name": "stdout",
     "output_type": "stream",
     "text": [
      "Epoch 1/25\n",
      "14/14 [==============================] - 3s 191ms/step - loss: 0.9686 - acc: 0.6838 - val_loss: 0.1906 - val_acc: 0.9292\n",
      "Epoch 2/25\n",
      "14/14 [==============================] - 1s 83ms/step - loss: 0.3238 - acc: 0.8937 - val_loss: 0.1727 - val_acc: 0.9375\n",
      "Epoch 3/25\n",
      "14/14 [==============================] - 1s 85ms/step - loss: 0.2189 - acc: 0.9332 - val_loss: 0.1683 - val_acc: 0.9500\n",
      "Epoch 4/25\n",
      "14/14 [==============================] - 1s 84ms/step - loss: 0.2016 - acc: 0.9365 - val_loss: 0.1518 - val_acc: 0.9417\n",
      "Epoch 5/25\n",
      "14/14 [==============================] - 1s 84ms/step - loss: 0.1702 - acc: 0.9445 - val_loss: 0.1584 - val_acc: 0.9500\n",
      "Epoch 6/25\n",
      "14/14 [==============================] - 1s 83ms/step - loss: 0.1528 - acc: 0.9524 - val_loss: 0.1612 - val_acc: 0.9542\n",
      "Epoch 7/25\n",
      "14/14 [==============================] - 1s 85ms/step - loss: 0.1284 - acc: 0.9543 - val_loss: 0.1394 - val_acc: 0.9583\n",
      "Epoch 8/25\n",
      "14/14 [==============================] - 1s 95ms/step - loss: 0.1101 - acc: 0.9685 - val_loss: 0.1716 - val_acc: 0.9417\n",
      "Epoch 9/25\n",
      "14/14 [==============================] - 1s 94ms/step - loss: 0.1348 - acc: 0.9583 - val_loss: 0.1662 - val_acc: 0.9583\n",
      "Epoch 10/25\n",
      "14/14 [==============================] - 1s 95ms/step - loss: 0.1089 - acc: 0.9640 - val_loss: 0.1489 - val_acc: 0.9542\n",
      "Epoch 11/25\n",
      "14/14 [==============================] - 1s 83ms/step - loss: 0.0994 - acc: 0.9665 - val_loss: 0.1611 - val_acc: 0.9583\n",
      "Epoch 12/25\n",
      "14/14 [==============================] - 1s 83ms/step - loss: 0.1010 - acc: 0.9685 - val_loss: 0.1498 - val_acc: 0.9500\n",
      "Epoch 13/25\n",
      "14/14 [==============================] - 1s 83ms/step - loss: 0.1123 - acc: 0.9622 - val_loss: 0.1659 - val_acc: 0.9542\n",
      "Epoch 14/25\n",
      "14/14 [==============================] - 1s 83ms/step - loss: 0.0818 - acc: 0.9781 - val_loss: 0.1777 - val_acc: 0.9500\n",
      "Epoch 15/25\n",
      "14/14 [==============================] - 1s 83ms/step - loss: 0.0764 - acc: 0.9781 - val_loss: 0.1594 - val_acc: 0.9417\n",
      "Epoch 16/25\n",
      "14/14 [==============================] - 1s 83ms/step - loss: 0.0759 - acc: 0.9787 - val_loss: 0.1558 - val_acc: 0.9458\n",
      "Epoch 17/25\n",
      "14/14 [==============================] - 1s 84ms/step - loss: 0.0704 - acc: 0.9776 - val_loss: 0.1521 - val_acc: 0.9417\n",
      "Epoch 18/25\n",
      "14/14 [==============================] - 1s 85ms/step - loss: 0.0773 - acc: 0.9776 - val_loss: 0.1867 - val_acc: 0.9417\n",
      "Epoch 19/25\n",
      "14/14 [==============================] - 1s 84ms/step - loss: 0.0682 - acc: 0.9793 - val_loss: 0.1566 - val_acc: 0.9542\n",
      "Epoch 20/25\n",
      "14/14 [==============================] - 1s 84ms/step - loss: 0.0739 - acc: 0.9748 - val_loss: 0.1814 - val_acc: 0.9500\n",
      "Epoch 21/25\n",
      "14/14 [==============================] - 1s 84ms/step - loss: 0.0653 - acc: 0.9781 - val_loss: 0.1748 - val_acc: 0.9500\n",
      "Epoch 22/25\n",
      "14/14 [==============================] - 1s 93ms/step - loss: 0.0559 - acc: 0.9819 - val_loss: 0.1485 - val_acc: 0.9542\n",
      "Epoch 23/25\n",
      "14/14 [==============================] - 1s 84ms/step - loss: 0.0547 - acc: 0.9838 - val_loss: 0.1765 - val_acc: 0.9458\n",
      "Epoch 24/25\n",
      "14/14 [==============================] - 1s 89ms/step - loss: 0.0628 - acc: 0.9819 - val_loss: 0.1896 - val_acc: 0.9417\n",
      "Epoch 25/25\n",
      "14/14 [==============================] - 1s 83ms/step - loss: 0.0718 - acc: 0.9775 - val_loss: 0.1590 - val_acc: 0.9500\n"
     ]
    },
    {
     "data": {
      "text/plain": [
       "<tensorflow.python.keras.callbacks.History at 0x7ff72764d8d0>"
      ]
     },
     "execution_count": 37,
     "metadata": {},
     "output_type": "execute_result"
    }
   ],
   "source": [
    "model.fit_generator(train_generator,epochs = 25,validation_data=val_generator)"
   ]
  },
  {
   "cell_type": "code",
   "execution_count": 38,
   "metadata": {},
   "outputs": [],
   "source": [
    "x_test_mc = np.zeros((len(x_test_mc_2),80,125))\n",
    "\n",
    "for i, this_x in enumerate(x_test_mc_2):\n",
    "    \n",
    "    this_frames = this_x.shape[1]\n",
    "    \n",
    "    if this_frames > 125:\n",
    "        max_start = this_frames - 125\n",
    "        start = np.random.randint(0,max_start)\n",
    "        end = start+125\n",
    "\n",
    "        this_x = this_x[:,start:end]\n",
    "        \n",
    "    x_test_mc[i] = this_x"
   ]
  },
  {
   "cell_type": "code",
   "execution_count": 39,
   "metadata": {},
   "outputs": [
    {
     "name": "stdout",
     "output_type": "stream",
     "text": [
      "240/240 [==============================] - 0s 1ms/step\n"
     ]
    },
    {
     "data": {
      "text/plain": [
       "[0.16029720329485522, 0.9583333333333334]"
      ]
     },
     "execution_count": 39,
     "metadata": {},
     "output_type": "execute_result"
    }
   ],
   "source": [
    "model.evaluate(x_test_mc,new_test_labels_mc)"
   ]
  },
  {
   "cell_type": "code",
   "execution_count": 40,
   "metadata": {},
   "outputs": [],
   "source": [
    "y_scores = model.predict(x_test_mc)"
   ]
  },
  {
   "cell_type": "code",
   "execution_count": 41,
   "metadata": {},
   "outputs": [],
   "source": [
    "y_hat_mc = np.argmax(y_scores, axis = 1)"
   ]
  },
  {
   "cell_type": "markdown",
   "metadata": {},
   "source": [
    "### Plot Confussion Matrix"
   ]
  },
  {
   "cell_type": "code",
   "execution_count": 42,
   "metadata": {},
   "outputs": [],
   "source": [
    "from utilities import plot_cm"
   ]
  },
  {
   "cell_type": "code",
   "execution_count": 43,
   "metadata": {},
   "outputs": [],
   "source": [
    "mc_labels = list(mc_new_label_mapping.keys())"
   ]
  },
  {
   "cell_type": "code",
   "execution_count": 44,
   "metadata": {},
   "outputs": [
    {
     "data": {
      "image/png": "[encoded data removed]",
      "text/plain": [
       "<Figure size 1440x1440 with 2 Axes>"
      ]
     },
     "metadata": {
      "needs_background": "light"
     },
     "output_type": "display_data"
    }
   ],
   "source": [
    "labels = [num_to_label[f] for f in mc_labels]\n",
    "labels.append('Unknown')\n",
    "plot_cm(new_test_labels_mc,y_hat_mc,figsize = (20,20), labels = labels,xrotation = 0)"
   ]
  },
  {
   "cell_type": "code",
   "execution_count": 45,
   "metadata": {},
   "outputs": [],
   "source": [
    "model.save_weights('./weights_c5_malley_v2.h5')"
   ]
  },
  {
   "cell_type": "code",
   "execution_count": null,
   "metadata": {},
   "outputs": [],
   "source": []
  }
 ],
 "metadata": {
  "kernelspec": {
   "display_name": "Python 3",
   "language": "python",
   "name": "python3"
  },
  "language_info": {
   "codemirror_mode": {
    "name": "ipython",
    "version": 3
   },
   "file_extension": ".py",
   "mimetype": "text/x-python",
   "name": "python",
   "nbconvert_exporter": "python",
   "pygments_lexer": "ipython3",
   "version": "3.6.7"
  }
 },
 "nbformat": 4,
 "nbformat_minor": 1
}
