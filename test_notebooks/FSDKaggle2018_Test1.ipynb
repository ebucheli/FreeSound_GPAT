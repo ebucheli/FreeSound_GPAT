{
 "cells": [
  {
   "cell_type": "code",
   "execution_count": 1,
   "metadata": {
    "_cell_guid": "b1076dfc-b9ad-4769-8c92-a6c4dae69d19",
    "_uuid": "8f2839f25d086af736a60e9eeb907d3b93b6e0e5"
   },
   "outputs": [],
   "source": [
    "import numpy as np\n",
    "import pandas as pd\n",
    "import matplotlib.pyplot as plt\n",
    "import librosa\n",
    "import librosa.display\n",
    "from IPython.display import Audio\n",
    "\n",
    "import os\n",
    "from tqdm import tqdm_notebook\n",
    "from scipy.io import wavfile\n",
    "from copy import deepcopy"
   ]
  },
  {
   "cell_type": "code",
   "execution_count": 2,
   "metadata": {},
   "outputs": [],
   "source": [
    "#path_dataset = '../input/'\n",
    "path_dataset = '/home/edoardobucheli/Datasets/FSDKaggle2018'\n",
    "\n",
    "path_train = os.path.join(path_dataset,'audio_train_16k')\n",
    "path_test = os.path.join(path_dataset,'audio_test_16k')"
   ]
  },
  {
   "cell_type": "code",
   "execution_count": 4,
   "metadata": {},
   "outputs": [],
   "source": [
    "train_data = pd.read_csv(os.path.join(path_dataset,'train_post_competition.csv'))\n",
    "test_data = pd.read_csv(os.path.join(path_dataset,'test_post_competition_scoring_clips.csv'))"
   ]
  },
  {
   "cell_type": "code",
   "execution_count": 5,
   "metadata": {},
   "outputs": [
    {
     "data": {
      "text/html": [
       "<div>\n",
       "<style scoped>\n",
       "    .dataframe tbody tr th:only-of-type {\n",
       "        vertical-align: middle;\n",
       "    }\n",
       "\n",
       "    .dataframe tbody tr th {\n",
       "        vertical-align: top;\n",
       "    }\n",
       "\n",
       "    .dataframe thead th {\n",
       "        text-align: right;\n",
       "    }\n",
       "</style>\n",
       "<table border=\"1\" class=\"dataframe\">\n",
       "  <thead>\n",
       "    <tr style=\"text-align: right;\">\n",
       "      <th></th>\n",
       "      <th>fname</th>\n",
       "      <th>label</th>\n",
       "      <th>manually_verified</th>\n",
       "      <th>freesound_id</th>\n",
       "      <th>license</th>\n",
       "    </tr>\n",
       "  </thead>\n",
       "  <tbody>\n",
       "    <tr>\n",
       "      <th>0</th>\n",
       "      <td>00044347.wav</td>\n",
       "      <td>Hi-hat</td>\n",
       "      <td>0</td>\n",
       "      <td>28739</td>\n",
       "      <td>Attribution</td>\n",
       "    </tr>\n",
       "    <tr>\n",
       "      <th>1</th>\n",
       "      <td>001ca53d.wav</td>\n",
       "      <td>Saxophone</td>\n",
       "      <td>1</td>\n",
       "      <td>358827</td>\n",
       "      <td>Attribution</td>\n",
       "    </tr>\n",
       "    <tr>\n",
       "      <th>2</th>\n",
       "      <td>002d256b.wav</td>\n",
       "      <td>Trumpet</td>\n",
       "      <td>0</td>\n",
       "      <td>10897</td>\n",
       "      <td>Creative Commons 0</td>\n",
       "    </tr>\n",
       "    <tr>\n",
       "      <th>3</th>\n",
       "      <td>0033e230.wav</td>\n",
       "      <td>Glockenspiel</td>\n",
       "      <td>1</td>\n",
       "      <td>325017</td>\n",
       "      <td>Attribution</td>\n",
       "    </tr>\n",
       "    <tr>\n",
       "      <th>4</th>\n",
       "      <td>00353774.wav</td>\n",
       "      <td>Cello</td>\n",
       "      <td>1</td>\n",
       "      <td>195688</td>\n",
       "      <td>Attribution</td>\n",
       "    </tr>\n",
       "  </tbody>\n",
       "</table>\n",
       "</div>"
      ],
      "text/plain": [
       "          fname         label  manually_verified  freesound_id  \\\n",
       "0  00044347.wav        Hi-hat                  0         28739   \n",
       "1  001ca53d.wav     Saxophone                  1        358827   \n",
       "2  002d256b.wav       Trumpet                  0         10897   \n",
       "3  0033e230.wav  Glockenspiel                  1        325017   \n",
       "4  00353774.wav         Cello                  1        195688   \n",
       "\n",
       "              license  \n",
       "0         Attribution  \n",
       "1         Attribution  \n",
       "2  Creative Commons 0  \n",
       "3         Attribution  \n",
       "4         Attribution  "
      ]
     },
     "execution_count": 5,
     "metadata": {},
     "output_type": "execute_result"
    }
   ],
   "source": [
    "train_data.head()"
   ]
  },
  {
   "cell_type": "code",
   "execution_count": 44,
   "metadata": {},
   "outputs": [
    {
     "data": {
      "text/html": [
       "<div>\n",
       "<style scoped>\n",
       "    .dataframe tbody tr th:only-of-type {\n",
       "        vertical-align: middle;\n",
       "    }\n",
       "\n",
       "    .dataframe tbody tr th {\n",
       "        vertical-align: top;\n",
       "    }\n",
       "\n",
       "    .dataframe thead th {\n",
       "        text-align: right;\n",
       "    }\n",
       "</style>\n",
       "<table border=\"1\" class=\"dataframe\">\n",
       "  <thead>\n",
       "    <tr style=\"text-align: right;\">\n",
       "      <th></th>\n",
       "      <th>fname</th>\n",
       "      <th>label</th>\n",
       "      <th>usage</th>\n",
       "      <th>freesound_id</th>\n",
       "      <th>license</th>\n",
       "    </tr>\n",
       "  </thead>\n",
       "  <tbody>\n",
       "    <tr>\n",
       "      <th>0</th>\n",
       "      <td>00326aa9.wav</td>\n",
       "      <td>Oboe</td>\n",
       "      <td>Private</td>\n",
       "      <td>355125</td>\n",
       "      <td>Attribution</td>\n",
       "    </tr>\n",
       "    <tr>\n",
       "      <th>1</th>\n",
       "      <td>0038a046.wav</td>\n",
       "      <td>Bass_drum</td>\n",
       "      <td>Private</td>\n",
       "      <td>90621</td>\n",
       "      <td>Creative Commons 0</td>\n",
       "    </tr>\n",
       "    <tr>\n",
       "      <th>2</th>\n",
       "      <td>007759c4.wav</td>\n",
       "      <td>Saxophone</td>\n",
       "      <td>Private</td>\n",
       "      <td>13406</td>\n",
       "      <td>Creative Commons 0</td>\n",
       "    </tr>\n",
       "    <tr>\n",
       "      <th>3</th>\n",
       "      <td>008afd93.wav</td>\n",
       "      <td>Saxophone</td>\n",
       "      <td>Private</td>\n",
       "      <td>358962</td>\n",
       "      <td>Attribution</td>\n",
       "    </tr>\n",
       "    <tr>\n",
       "      <th>4</th>\n",
       "      <td>00ae03f6.wav</td>\n",
       "      <td>Chime</td>\n",
       "      <td>Private</td>\n",
       "      <td>78203</td>\n",
       "      <td>Attribution</td>\n",
       "    </tr>\n",
       "  </tbody>\n",
       "</table>\n",
       "</div>"
      ],
      "text/plain": [
       "          fname      label    usage  freesound_id             license\n",
       "0  00326aa9.wav       Oboe  Private        355125         Attribution\n",
       "1  0038a046.wav  Bass_drum  Private         90621  Creative Commons 0\n",
       "2  007759c4.wav  Saxophone  Private         13406  Creative Commons 0\n",
       "3  008afd93.wav  Saxophone  Private        358962         Attribution\n",
       "4  00ae03f6.wav      Chime  Private         78203         Attribution"
      ]
     },
     "execution_count": 44,
     "metadata": {},
     "output_type": "execute_result"
    }
   ],
   "source": [
    "test_data.head()"
   ]
  },
  {
   "cell_type": "code",
   "execution_count": 6,
   "metadata": {},
   "outputs": [],
   "source": [
    "classes = np.unique(train_data['label'])\n",
    "n_classes = len(classes)\n",
    "\n",
    "num_to_label = dict([[v,k] for v,k in enumerate(classes)])\n",
    "label_to_num = dict([[k,v] for v,k in enumerate(classes)])"
   ]
  },
  {
   "cell_type": "code",
   "execution_count": 7,
   "metadata": {},
   "outputs": [],
   "source": [
    "data_manual = train_data[train_data['manually_verified']==1]\n",
    "data_auto = train_data[train_data['manually_verified']==0]"
   ]
  },
  {
   "cell_type": "code",
   "execution_count": 45,
   "metadata": {},
   "outputs": [],
   "source": [
    "filenames_all = train_data['fname'].tolist()\n",
    "labels_all = [label_to_num[f] for f in train_data['label']]\n",
    "\n",
    "filenames_manual = data_manual['fname'].tolist()\n",
    "labels_manual = [label_to_num[f] for f in data_manual['label']]\n",
    "\n",
    "filenames_auto = data_auto['fname'].tolist()\n",
    "labels_auto = [label_to_num[f] for f in data_auto['label']]\n",
    "\n",
    "filenames_test = test_data['fname'].tolist()\n",
    "labels_test = [label_to_num[f] for f in test_data['label']]"
   ]
  },
  {
   "cell_type": "code",
   "execution_count": 9,
   "metadata": {},
   "outputs": [],
   "source": [
    "sr = 16000\n",
    "file_length = sr*4\n",
    "hop_length = 512\n",
    "n_mels = 80\n",
    "\n",
    "frames = int(np.ceil(file_length/hop_length))"
   ]
  },
  {
   "cell_type": "code",
   "execution_count": 10,
   "metadata": {},
   "outputs": [],
   "source": [
    "def load_data_mel(filenames,path,n_mels,sr,seconds):\n",
    "    \n",
    "    min_length = sr*seconds\n",
    "    \n",
    "    specs = []\n",
    "    \n",
    "    for i,file in enumerate(tqdm_notebook(filenames)):\n",
    "        \n",
    "        wave,_ = librosa.load(os.path.join(path,file),sr=sr,dtype = np.float32) \n",
    "        wave,_ = librosa.effects.trim(wave)\n",
    "        if len(wave)<=min_length:\n",
    "            \n",
    "            amount = min_length-len(wave)\n",
    "            wave = np.pad(wave,(int(np.ceil(amount/2)),int(np.floor(amount/2))),'constant')\n",
    "            \n",
    "        wave = wave/np.max(np.absolute(wave+1e-10))\n",
    "        \n",
    "        spect = librosa.feature.melspectrogram(wave,sr=sr,n_mels=n_mels)\n",
    "        spect = librosa.amplitude_to_db(spect)\n",
    "        \n",
    "        mean = np.mean(spect)\n",
    "        std = np.std(spect)\n",
    "        if std == 0:\n",
    "            std+=1e-10\n",
    "        spect = (spect-mean)/(std)\n",
    "        \n",
    "        specs.append(spect)\n",
    "    \n",
    "    return specs"
   ]
  },
  {
   "cell_type": "code",
   "execution_count": 55,
   "metadata": {},
   "outputs": [],
   "source": [
    "import pickle"
   ]
  },
  {
   "cell_type": "code",
   "execution_count": 63,
   "metadata": {},
   "outputs": [],
   "source": [
    "with open('train_mel80_512','wb')as fp:\n",
    "    pickle.dump(X_all,fp)"
   ]
  },
  {
   "cell_type": "code",
   "execution_count": 57,
   "metadata": {},
   "outputs": [],
   "source": [
    "with open('outfile','rb') as fp:\n",
    "    X_test2 = pickle.load(fp)"
   ]
  },
  {
   "cell_type": "code",
   "execution_count": 60,
   "metadata": {},
   "outputs": [
    {
     "data": {
      "text/plain": [
       "<matplotlib.axes._subplots.AxesSubplot at 0x7f00e08d43c8>"
      ]
     },
     "execution_count": 60,
     "metadata": {},
     "output_type": "execute_result"
    },
    {
     "data": {
      "image/png": "[encoded data removed]",
      "text/plain": [
       "<Figure size 432x288 with 1 Axes>"
      ]
     },
     "metadata": {},
     "output_type": "display_data"
    }
   ],
   "source": [
    "librosa.display.specshow(X_test[1])"
   ]
  },
  {
   "cell_type": "code",
   "execution_count": 62,
   "metadata": {},
   "outputs": [
    {
     "data": {
      "text/plain": [
       "<matplotlib.axes._subplots.AxesSubplot at 0x7f00e08df4e0>"
      ]
     },
     "execution_count": 62,
     "metadata": {},
     "output_type": "execute_result"
    },
    {
     "data": {
      "image/png": "[encoded data removed]",
      "text/plain": [
       "<Figure size 432x288 with 1 Axes>"
      ]
     },
     "metadata": {},
     "output_type": "display_data"
    }
   ],
   "source": [
    "librosa.display.specshow(X_test2[2])"
   ]
  },
  {
   "cell_type": "code",
   "execution_count": 53,
   "metadata": {},
   "outputs": [
    {
     "data": {
      "text/plain": [
       "<matplotlib.axes._subplots.AxesSubplot at 0x7f0088809940>"
      ]
     },
     "execution_count": 53,
     "metadata": {},
     "output_type": "execute_result"
    },
    {
     "data": {
      "image/png": "[encoded data removed]",
      "text/plain": [
       "<Figure size 1080x360 with 1 Axes>"
      ]
     },
     "metadata": {},
     "output_type": "display_data"
    }
   ],
   "source": [
    "plt.figure(figsize = (15,5))\n",
    "librosa.display.specshow(X_all[0])"
   ]
  },
  {
   "cell_type": "code",
   "execution_count": 11,
   "metadata": {},
   "outputs": [
    {
     "data": {
      "application/vnd.jupyter.widget-view+json": {
       "model_id": "0d5fa434e31849dd863f1a6c3d60e52e",
       "version_major": 2,
       "version_minor": 0
      },
      "text/plain": [
       "HBox(children=(IntProgress(value=0, max=9473), HTML(value='')))"
      ]
     },
     "metadata": {},
     "output_type": "display_data"
    },
    {
     "name": "stdout",
     "output_type": "stream",
     "text": [
      "\n"
     ]
    }
   ],
   "source": [
    "X_all = load_data_mel(filenames_all,path_train,n_mels,sr,4)"
   ]
  },
  {
   "cell_type": "code",
   "execution_count": 46,
   "metadata": {},
   "outputs": [
    {
     "data": {
      "application/vnd.jupyter.widget-view+json": {
       "model_id": "9329a3c659bc4477bf36ec5209a18e0c",
       "version_major": 2,
       "version_minor": 0
      },
      "text/plain": [
       "HBox(children=(IntProgress(value=0, max=1600), HTML(value='')))"
      ]
     },
     "metadata": {},
     "output_type": "display_data"
    },
    {
     "name": "stdout",
     "output_type": "stream",
     "text": [
      "\n"
     ]
    }
   ],
   "source": [
    "X_test = load_data_mel(filenames_test,path_test,n_mels,sr,4)"
   ]
  },
  {
   "cell_type": "code",
   "execution_count": 18,
   "metadata": {},
   "outputs": [],
   "source": [
    "#X_curated = load_data_mel(filenames_manual,path_train,n_mels,sr,44100)"
   ]
  },
  {
   "cell_type": "code",
   "execution_count": 19,
   "metadata": {},
   "outputs": [],
   "source": [
    "#X_noisy = load_data_mel(filenames_auto,path_train,n_mels,sr,44100)"
   ]
  },
  {
   "cell_type": "code",
   "execution_count": 22,
   "metadata": {},
   "outputs": [],
   "source": [
    "from keras.utils import Sequence\n",
    "\n",
    "class DataGenerator(Sequence):\n",
    "    def __init__(self,x_set,y_set,\n",
    "                 batch_size = 128,input_shape = (80,frames),\n",
    "                 n_classes=80, sr = 44100, seconds = 4):\n",
    "        \n",
    "        self.x, self.y = x_set,y_set\n",
    "        self.batch_size = batch_size\n",
    "        self.input_shape = input_shape\n",
    "        self.n_classes = n_classes\n",
    "        self.sr = sr\n",
    "        self.file_length = sr*seconds\n",
    "        #self.on_epoch_end()\n",
    "    \n",
    "    def __len__(self):\n",
    "        return int(np.ceil(len(self.x)/self.batch_size))\n",
    "    \n",
    "    def __getitem__(self,idx):\n",
    "        \n",
    "        spects = self.x[idx*self.batch_size:(idx+1)*self.batch_size]\n",
    "        batch_y = self.y[idx*self.batch_size:(idx+1)*self.batch_size]\n",
    "        \n",
    "        batch_x = self.__generate_data(spects)\n",
    "        \n",
    "        #print(batch_x.shape)\n",
    "        #print(batch_y.shape)\n",
    "        \n",
    "        return batch_x,batch_y\n",
    "    \n",
    "    def __generate_data(self,spects):\n",
    "        n_mels,frames = self.input_shape\n",
    "        x_batch = np.zeros((len(spects),n_mels,frames))\n",
    "        \n",
    "        for i, spect in enumerate(spects):\n",
    "            freq_res,time_res = spect.shape\n",
    "            \n",
    "            max_start = time_res-frames\n",
    "            if max_start == 0:\n",
    "                start = 0\n",
    "            else:\n",
    "                start = np.random.randint(0,max_start)\n",
    "            end = start+frames\n",
    "            \n",
    "            x_batch[i] = spect[:,start:end]\n",
    "        \n",
    "        return x_batch"
   ]
  },
  {
   "cell_type": "markdown",
   "metadata": {},
   "source": [
    "# Malley CNN"
   ]
  },
  {
   "cell_type": "code",
   "execution_count": 23,
   "metadata": {},
   "outputs": [],
   "source": [
    "from keras.layers import Conv2D, MaxPool2D, Dropout, Activation\n",
    "from keras.layers import GlobalMaxPool2D, Dense, Input\n",
    "from keras.layers import Lambda\n",
    "from keras.models import Model\n",
    "from keras.activations import relu, softmax\n",
    "from keras.backend import expand_dims\n",
    "from keras.optimizers import Adam\n",
    "from kapre.time_frequency import Melspectrogram\n",
    "from kapre.utils import Normalization2D"
   ]
  },
  {
   "cell_type": "code",
   "execution_count": 24,
   "metadata": {},
   "outputs": [],
   "source": [
    "def malley_cnn_80(input_shape, n_classes):\n",
    "\n",
    "    X_input = Input(input_shape)\n",
    "    \n",
    "    X = Lambda(lambda q: expand_dims(q, -1), name='expand_dims') (X_input)\n",
    "    \n",
    "    X = Conv2D(64,[3,7],padding = 'same')(X)\n",
    "    X = Activation(relu)(X)\n",
    "    X = MaxPool2D([2,1])(X)\n",
    "    \n",
    "    X = Conv2D(128,[7,1],padding = 'same')(X)\n",
    "    X = Activation('relu')(X)\n",
    "    X = MaxPool2D([4,1])(X)\n",
    "    \n",
    "    X = Conv2D(256,[10,1],padding = 'valid')(X)\n",
    "    X = Activation('relu')(X)\n",
    "    \n",
    "    X = Conv2D(512,[1,7],padding = 'same')(X)\n",
    "    X = Activation('relu')(X)\n",
    "    \n",
    "    X = GlobalMaxPool2D()(X)\n",
    "    \n",
    "    X = Dense(512,activation = 'relu')(X)\n",
    "    X = Dropout(0.5)(X)\n",
    "    \n",
    "    X = Dense(n_classes, activation = 'softmax')(X)\n",
    "\n",
    "    model = Model(inputs = X_input, outputs = X)\n",
    "    \n",
    "    return model"
   ]
  },
  {
   "cell_type": "code",
   "execution_count": 25,
   "metadata": {},
   "outputs": [
    {
     "name": "stdout",
     "output_type": "stream",
     "text": [
      "_________________________________________________________________\n",
      "Layer (type)                 Output Shape              Param #   \n",
      "=================================================================\n",
      "input_1 (InputLayer)         (None, 80, 125)           0         \n",
      "_________________________________________________________________\n",
      "expand_dims (Lambda)         (None, 80, 125, 1)        0         \n",
      "_________________________________________________________________\n",
      "conv2d_1 (Conv2D)            (None, 80, 125, 64)       1408      \n",
      "_________________________________________________________________\n",
      "activation_1 (Activation)    (None, 80, 125, 64)       0         \n",
      "_________________________________________________________________\n",
      "max_pooling2d_1 (MaxPooling2 (None, 40, 125, 64)       0         \n",
      "_________________________________________________________________\n",
      "conv2d_2 (Conv2D)            (None, 40, 125, 128)      57472     \n",
      "_________________________________________________________________\n",
      "activation_2 (Activation)    (None, 40, 125, 128)      0         \n",
      "_________________________________________________________________\n",
      "max_pooling2d_2 (MaxPooling2 (None, 10, 125, 128)      0         \n",
      "_________________________________________________________________\n",
      "conv2d_3 (Conv2D)            (None, 1, 125, 256)       327936    \n",
      "_________________________________________________________________\n",
      "activation_3 (Activation)    (None, 1, 125, 256)       0         \n",
      "_________________________________________________________________\n",
      "conv2d_4 (Conv2D)            (None, 1, 125, 512)       918016    \n",
      "_________________________________________________________________\n",
      "activation_4 (Activation)    (None, 1, 125, 512)       0         \n",
      "_________________________________________________________________\n",
      "global_max_pooling2d_1 (Glob (None, 512)               0         \n",
      "_________________________________________________________________\n",
      "dense_1 (Dense)              (None, 512)               262656    \n",
      "_________________________________________________________________\n",
      "dropout_1 (Dropout)          (None, 512)               0         \n",
      "_________________________________________________________________\n",
      "dense_2 (Dense)              (None, 41)                21033     \n",
      "=================================================================\n",
      "Total params: 1,588,521\n",
      "Trainable params: 1,588,521\n",
      "Non-trainable params: 0\n",
      "_________________________________________________________________\n"
     ]
    }
   ],
   "source": [
    "input_shape = ([n_mels,frames])\n",
    "lr = 0.001\n",
    "malley = malley_cnn_80(input_shape,n_classes)\n",
    "malley.summary()"
   ]
  },
  {
   "cell_type": "code",
   "execution_count": 26,
   "metadata": {},
   "outputs": [],
   "source": [
    "malley.compile(optimizer=Adam(lr),loss = 'sparse_categorical_crossentropy',metrics = ['accuracy'])"
   ]
  },
  {
   "cell_type": "markdown",
   "metadata": {},
   "source": [
    "### Split Dataset and make Generators"
   ]
  },
  {
   "cell_type": "code",
   "execution_count": 27,
   "metadata": {},
   "outputs": [],
   "source": [
    "from sklearn.model_selection import train_test_split"
   ]
  },
  {
   "cell_type": "code",
   "execution_count": 28,
   "metadata": {},
   "outputs": [],
   "source": [
    "#X_train_n,X_val_n,y_train_n,y_val_n = train_test_split(X_noisy,y_noisy,test_size=0.1, random_state=7)"
   ]
  },
  {
   "cell_type": "code",
   "execution_count": 30,
   "metadata": {},
   "outputs": [],
   "source": [
    "X_train_a,X_val_a,y_train_a,y_val_a = train_test_split(X_all,labels_all,test_size=0.1, random_state=7)"
   ]
  },
  {
   "cell_type": "code",
   "execution_count": 31,
   "metadata": {},
   "outputs": [],
   "source": [
    "#train_generator_n = DataGenerator(X_train_n,y_train_n)\n",
    "#val_generator_n = DataGenerator(X_val_n,y_val_n)"
   ]
  },
  {
   "cell_type": "code",
   "execution_count": 33,
   "metadata": {},
   "outputs": [],
   "source": [
    "train_generator_a = DataGenerator(X_train_a,y_train_a)\n",
    "val_generator_a = DataGenerator(X_val_a,y_val_a)"
   ]
  },
  {
   "cell_type": "markdown",
   "metadata": {},
   "source": [
    "### Train the Model"
   ]
  },
  {
   "cell_type": "code",
   "execution_count": 34,
   "metadata": {
    "scrolled": true
   },
   "outputs": [
    {
     "name": "stdout",
     "output_type": "stream",
     "text": [
      "Epoch 1/50\n",
      "67/67 [==============================] - 15s 230ms/step - loss: 2.8815 - acc: 0.2081 - val_loss: 2.2105 - val_acc: 0.3692\n",
      "Epoch 2/50\n",
      "67/67 [==============================] - 13s 195ms/step - loss: 2.0660 - acc: 0.4053 - val_loss: 1.7815 - val_acc: 0.4958\n",
      "Epoch 3/50\n",
      "67/67 [==============================] - 13s 196ms/step - loss: 1.7415 - acc: 0.5054 - val_loss: 1.6523 - val_acc: 0.5316\n",
      "Epoch 4/50\n",
      "67/67 [==============================] - 13s 196ms/step - loss: 1.5110 - acc: 0.5692 - val_loss: 1.4415 - val_acc: 0.5992\n",
      "Epoch 5/50\n",
      "67/67 [==============================] - 13s 196ms/step - loss: 1.3517 - acc: 0.6127 - val_loss: 1.3109 - val_acc: 0.6392\n",
      "Epoch 6/50\n",
      "67/67 [==============================] - 13s 197ms/step - loss: 1.2017 - acc: 0.6571 - val_loss: 1.2558 - val_acc: 0.6530\n",
      "Epoch 7/50\n",
      "67/67 [==============================] - 14s 205ms/step - loss: 1.1059 - acc: 0.6820 - val_loss: 1.2310 - val_acc: 0.6551\n",
      "Epoch 8/50\n",
      "67/67 [==============================] - 13s 197ms/step - loss: 1.0258 - acc: 0.7031 - val_loss: 1.1801 - val_acc: 0.6698\n",
      "Epoch 9/50\n",
      "67/67 [==============================] - 14s 202ms/step - loss: 0.9645 - acc: 0.7245 - val_loss: 1.1519 - val_acc: 0.6804\n",
      "Epoch 10/50\n",
      "67/67 [==============================] - 13s 198ms/step - loss: 0.8539 - acc: 0.7542 - val_loss: 1.1201 - val_acc: 0.7057\n",
      "Epoch 11/50\n",
      "67/67 [==============================] - 14s 205ms/step - loss: 0.8073 - acc: 0.7659 - val_loss: 1.0945 - val_acc: 0.6983\n",
      "Epoch 12/50\n",
      "67/67 [==============================] - 13s 199ms/step - loss: 0.7303 - acc: 0.7918 - val_loss: 1.0638 - val_acc: 0.7247\n",
      "Epoch 13/50\n",
      "67/67 [==============================] - 13s 199ms/step - loss: 0.6359 - acc: 0.8126 - val_loss: 1.1619 - val_acc: 0.6962\n",
      "Epoch 14/50\n",
      "67/67 [==============================] - 13s 199ms/step - loss: 0.6223 - acc: 0.8163 - val_loss: 1.0969 - val_acc: 0.7141\n",
      "Epoch 15/50\n",
      "67/67 [==============================] - 13s 200ms/step - loss: 0.5846 - acc: 0.8248 - val_loss: 1.1996 - val_acc: 0.6973\n",
      "Epoch 16/50\n",
      "67/67 [==============================] - 13s 200ms/step - loss: 0.5352 - acc: 0.8432 - val_loss: 1.1877 - val_acc: 0.6962\n",
      "Epoch 17/50\n",
      "67/67 [==============================] - 13s 199ms/step - loss: 0.5010 - acc: 0.8517 - val_loss: 1.2607 - val_acc: 0.6962\n",
      "Epoch 18/50\n",
      "67/67 [==============================] - 13s 200ms/step - loss: 0.4653 - acc: 0.8632 - val_loss: 1.1457 - val_acc: 0.7226\n",
      "Epoch 19/50\n",
      "67/67 [==============================] - 14s 205ms/step - loss: 0.4403 - acc: 0.8709 - val_loss: 1.1693 - val_acc: 0.7226\n",
      "Epoch 20/50\n",
      "67/67 [==============================] - 15s 220ms/step - loss: 0.3974 - acc: 0.8810 - val_loss: 1.1794 - val_acc: 0.7310\n",
      "Epoch 21/50\n",
      "67/67 [==============================] - 14s 202ms/step - loss: 0.4159 - acc: 0.8771 - val_loss: 1.1921 - val_acc: 0.7236\n",
      "Epoch 22/50\n",
      "67/67 [==============================] - 14s 207ms/step - loss: 0.3745 - acc: 0.8912 - val_loss: 1.1393 - val_acc: 0.7289\n",
      "Epoch 23/50\n",
      "67/67 [==============================] - 14s 205ms/step - loss: 0.3608 - acc: 0.8947 - val_loss: 1.2214 - val_acc: 0.7162\n",
      "Epoch 24/50\n",
      "67/67 [==============================] - 13s 200ms/step - loss: 0.3246 - acc: 0.9010 - val_loss: 1.1471 - val_acc: 0.7426\n",
      "Epoch 25/50\n",
      "67/67 [==============================] - 13s 199ms/step - loss: 0.3211 - acc: 0.9041 - val_loss: 1.2855 - val_acc: 0.7068\n",
      "Epoch 26/50\n",
      "67/67 [==============================] - 13s 199ms/step - loss: 0.3177 - acc: 0.9078 - val_loss: 1.2318 - val_acc: 0.7289\n",
      "Epoch 27/50\n",
      "67/67 [==============================] - 13s 198ms/step - loss: 0.2887 - acc: 0.9140 - val_loss: 1.3270 - val_acc: 0.7173\n",
      "Epoch 28/50\n",
      "67/67 [==============================] - 13s 199ms/step - loss: 0.2740 - acc: 0.9168 - val_loss: 1.2371 - val_acc: 0.7373\n",
      "Epoch 29/50\n",
      "67/67 [==============================] - 13s 199ms/step - loss: 0.2656 - acc: 0.9220 - val_loss: 1.2494 - val_acc: 0.7363\n",
      "Epoch 30/50\n",
      "67/67 [==============================] - 13s 199ms/step - loss: 0.2819 - acc: 0.9170 - val_loss: 1.2891 - val_acc: 0.7300\n",
      "Epoch 31/50\n",
      "67/67 [==============================] - 13s 199ms/step - loss: 0.2329 - acc: 0.9318 - val_loss: 1.5055 - val_acc: 0.7110\n",
      "Epoch 32/50\n",
      "67/67 [==============================] - 13s 198ms/step - loss: 0.2514 - acc: 0.9269 - val_loss: 1.3572 - val_acc: 0.7289\n",
      "Epoch 33/50\n",
      "67/67 [==============================] - 13s 199ms/step - loss: 0.2250 - acc: 0.9354 - val_loss: 1.3335 - val_acc: 0.7278\n",
      "Epoch 34/50\n",
      "67/67 [==============================] - 13s 199ms/step - loss: 0.2394 - acc: 0.9341 - val_loss: 1.3436 - val_acc: 0.7226\n",
      "Epoch 35/50\n",
      "67/67 [==============================] - 13s 199ms/step - loss: 0.2193 - acc: 0.9373 - val_loss: 1.3046 - val_acc: 0.7511\n",
      "Epoch 36/50\n",
      "67/67 [==============================] - 13s 200ms/step - loss: 0.2094 - acc: 0.9390 - val_loss: 1.4763 - val_acc: 0.7268\n",
      "Epoch 37/50\n",
      "67/67 [==============================] - 13s 200ms/step - loss: 0.2179 - acc: 0.9352 - val_loss: 1.3567 - val_acc: 0.7184\n",
      "Epoch 38/50\n",
      "67/67 [==============================] - 13s 200ms/step - loss: 0.2139 - acc: 0.9348 - val_loss: 1.2927 - val_acc: 0.7321\n",
      "Epoch 39/50\n",
      "67/67 [==============================] - 14s 208ms/step - loss: 0.1936 - acc: 0.9424 - val_loss: 1.3547 - val_acc: 0.7331\n",
      "Epoch 40/50\n",
      "67/67 [==============================] - 13s 199ms/step - loss: 0.1814 - acc: 0.9476 - val_loss: 1.3883 - val_acc: 0.7268\n",
      "Epoch 41/50\n",
      "67/67 [==============================] - 13s 201ms/step - loss: 0.2009 - acc: 0.9419 - val_loss: 1.3640 - val_acc: 0.7247\n",
      "Epoch 42/50\n",
      "67/67 [==============================] - 13s 200ms/step - loss: 0.1931 - acc: 0.9417 - val_loss: 1.3493 - val_acc: 0.7352\n",
      "Epoch 43/50\n",
      "67/67 [==============================] - 13s 200ms/step - loss: 0.1752 - acc: 0.9480 - val_loss: 1.4292 - val_acc: 0.7373\n",
      "Epoch 44/50\n",
      "67/67 [==============================] - 13s 199ms/step - loss: 0.1839 - acc: 0.9476 - val_loss: 1.4177 - val_acc: 0.7416\n",
      "Epoch 45/50\n",
      "67/67 [==============================] - 13s 200ms/step - loss: 0.1815 - acc: 0.9479 - val_loss: 1.3932 - val_acc: 0.7532\n",
      "Epoch 46/50\n",
      "67/67 [==============================] - 13s 199ms/step - loss: 0.1701 - acc: 0.9462 - val_loss: 1.5423 - val_acc: 0.7257\n",
      "Epoch 47/50\n",
      "67/67 [==============================] - 13s 199ms/step - loss: 0.1472 - acc: 0.9569 - val_loss: 1.4465 - val_acc: 0.7395\n",
      "Epoch 48/50\n",
      "67/67 [==============================] - 14s 208ms/step - loss: 0.1429 - acc: 0.9572 - val_loss: 1.6249 - val_acc: 0.7247\n",
      "Epoch 49/50\n",
      "67/67 [==============================] - 14s 205ms/step - loss: 0.1728 - acc: 0.9501 - val_loss: 1.4900 - val_acc: 0.7257\n",
      "Epoch 50/50\n",
      "67/67 [==============================] - 13s 199ms/step - loss: 0.1481 - acc: 0.9554 - val_loss: 1.6159 - val_acc: 0.7342\n"
     ]
    },
    {
     "data": {
      "text/plain": [
       "<keras.callbacks.History at 0x7f00e1f8c470>"
      ]
     },
     "execution_count": 34,
     "metadata": {},
     "output_type": "execute_result"
    }
   ],
   "source": [
    "malley.fit_generator(train_generator_a,epochs = 50,validation_data=val_generator_a)"
   ]
  },
  {
   "cell_type": "markdown",
   "metadata": {},
   "source": [
    "### Train Only with Curated Data"
   ]
  },
  {
   "cell_type": "code",
   "execution_count": 37,
   "metadata": {},
   "outputs": [],
   "source": [
    "X_curated = []\n",
    "\n",
    "for i,tag in enumerate(train_data['manually_verified']):\n",
    "    if tag == 1:\n",
    "        X_curated.append(X_all[i])"
   ]
  },
  {
   "cell_type": "code",
   "execution_count": 40,
   "metadata": {},
   "outputs": [],
   "source": [
    "X_train_c,X_val_c,y_train_c,y_val_c = train_test_split(X_curated,labels_manual,test_size=0.1, random_state=7)"
   ]
  },
  {
   "cell_type": "code",
   "execution_count": 41,
   "metadata": {},
   "outputs": [],
   "source": [
    "train_generator_c = DataGenerator(X_train_c,y_train_c)\n",
    "val_generator_c = DataGenerator(X_val_c,y_val_c)"
   ]
  },
  {
   "cell_type": "code",
   "execution_count": 49,
   "metadata": {},
   "outputs": [
    {
     "name": "stdout",
     "output_type": "stream",
     "text": [
      "Epoch 1/1\n",
      "27/27 [==============================] - 6s 222ms/step - loss: 0.0812 - acc: 0.9721 - val_loss: 1.4502 - val_acc: 0.7562\n"
     ]
    },
    {
     "data": {
      "text/plain": [
       "<keras.callbacks.History at 0x7f008a7c2d30>"
      ]
     },
     "execution_count": 49,
     "metadata": {},
     "output_type": "execute_result"
    }
   ],
   "source": [
    "malley.fit_generator(train_generator_c,epochs = 1,validation_data=test_generator)"
   ]
  },
  {
   "cell_type": "markdown",
   "metadata": {},
   "source": [
    "### Test"
   ]
  },
  {
   "cell_type": "code",
   "execution_count": null,
   "metadata": {},
   "outputs": [],
   "source": []
  },
  {
   "cell_type": "code",
   "execution_count": null,
   "metadata": {},
   "outputs": [],
   "source": []
  }
 ],
 "metadata": {
  "kernelspec": {
   "display_name": "Python 3",
   "language": "python",
   "name": "python3"
  },
  "language_info": {
   "codemirror_mode": {
    "name": "ipython",
    "version": 3
   },
   "file_extension": ".py",
   "mimetype": "text/x-python",
   "name": "python",
   "nbconvert_exporter": "python",
   "pygments_lexer": "ipython3",
   "version": "3.6.7"
  }
 },
 "nbformat": 4,
 "nbformat_minor": 1
}
