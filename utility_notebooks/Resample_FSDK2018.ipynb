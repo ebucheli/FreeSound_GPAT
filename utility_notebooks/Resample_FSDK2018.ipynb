{
 "cells": [
  {
   "cell_type": "code",
   "execution_count": 1,
   "metadata": {},
   "outputs": [],
   "source": [
    "import os\n",
    "\n",
    "import numpy as np\n",
    "import matplotlib.pyplot as plt\n",
    "from scipy.io.wavfile import read as wavread\n",
    "from scipy.io.wavfile import write as wavwrite\n",
    "\n",
    "import librosa\n",
    "\n",
    "from tqdm import tqdm_notebook"
   ]
  },
  {
   "cell_type": "code",
   "execution_count": 2,
   "metadata": {},
   "outputs": [],
   "source": [
    "from IPython.display import Audio"
   ]
  },
  {
   "cell_type": "code",
   "execution_count": 10,
   "metadata": {},
   "outputs": [],
   "source": [
    "path_train = '/home/edoardobucheli/Datasets/FSDKaggle2018/audio_train/'\n",
    "path_test = '/home/edoardobucheli/Datasets/FSDKaggle2018/audio_test/'\n",
    "\n",
    "path_16k = '/home/edoardobucheli/Datasets/FSDKaggle2018/audio_train_16k/'\n",
    "path_32k = '/home/edoardobucheli/Datasets/FSDKaggle2018/audio_train_32k/'\n",
    "\n",
    "path_16k_test = '/home/edoardobucheli/Datasets/FSDKaggle2018/audio_test_16k/'\n",
    "path_32k_test = '/home/edoardobucheli/Datasets/FSDKaggle2018/audio_test_32k/'"
   ]
  },
  {
   "cell_type": "code",
   "execution_count": 4,
   "metadata": {},
   "outputs": [],
   "source": [
    "filenames_train = [f for f in os.listdir(path_train) if f.endswith('.wav')]\n",
    "filenames_train.sort()"
   ]
  },
  {
   "cell_type": "code",
   "execution_count": 6,
   "metadata": {},
   "outputs": [
    {
     "data": {
      "application/vnd.jupyter.widget-view+json": {
       "model_id": "4a5e7b1386d94951aec57f109e135874",
       "version_major": 2,
       "version_minor": 0
      },
      "text/plain": [
       "HBox(children=(IntProgress(value=0, max=9473), HTML(value='')))"
      ]
     },
     "metadata": {},
     "output_type": "display_data"
    },
    {
     "name": "stdout",
     "output_type": "stream",
     "text": [
      "\n"
     ]
    }
   ],
   "source": [
    "new_sr = 16000\n",
    "\n",
    "for i, file in enumerate(tqdm_notebook(filenames_train)):\n",
    "    wav,sr = librosa.load(path_train+file, sr = new_sr)\n",
    "    wavwrite(path_16k+file,sr,wav)"
   ]
  },
  {
   "cell_type": "code",
   "execution_count": 7,
   "metadata": {},
   "outputs": [
    {
     "data": {
      "application/vnd.jupyter.widget-view+json": {
       "model_id": "da645aadeafa4d5fad625a450adb34de",
       "version_major": 2,
       "version_minor": 0
      },
      "text/plain": [
       "HBox(children=(IntProgress(value=0, max=9473), HTML(value='')))"
      ]
     },
     "metadata": {},
     "output_type": "display_data"
    },
    {
     "name": "stdout",
     "output_type": "stream",
     "text": [
      "\n"
     ]
    }
   ],
   "source": [
    "new_sr = 32000\n",
    "\n",
    "for i, file in enumerate(tqdm_notebook(filenames_train)):\n",
    "    wav,sr = librosa.load(path_train+file, sr = new_sr)\n",
    "    wavwrite(path_32k+file,sr,wav)"
   ]
  },
  {
   "cell_type": "code",
   "execution_count": 8,
   "metadata": {},
   "outputs": [],
   "source": [
    "filenames_test = [f for f in os.lockfstdir(path_test) if f.endswith('.wav')]\n",
    "filenames_test.sort()"
   ]
  },
  {
   "cell_type": "code",
   "execution_count": 11,
   "metadata": {},
   "outputs": [
    {
     "data": {
      "application/vnd.jupyter.widget-view+json": {
       "model_id": "e54aecbd33a049b7b0051ebd171ce4b5",
       "version_major": 2,
       "version_minor": 0
      },
      "text/plain": [
       "HBox(children=(IntProgress(value=0, max=1600), HTML(value='')))"
      ]
     },
     "metadata": {},
     "output_type": "display_data"
    },
    {
     "name": "stdout",
     "output_type": "stream",
     "text": [
      "\n"
     ]
    }
   ],
   "source": [
    "new_sr = 16000\n",
    "\n",
    "for i, file in enumerate(tqdm_notebook(filenames_test)):\n",
    "    wav,sr = librosa.load(path_test+file, sr = new_sr)\n",
    "    wavwrite(path_16k_test+file,sr,wav)"
   ]
  },
  {
   "cell_type": "code",
   "execution_count": 12,
   "metadata": {},
   "outputs": [
    {
     "data": {
      "application/vnd.jupyter.widget-view+json": {
       "model_id": "b7aa1646cad646fc8a06ade065b9977e",
       "version_major": 2,
       "version_minor": 0
      },
      "text/plain": [
       "HBox(children=(IntProgress(value=0, max=1600), HTML(value='')))"
      ]
     },
     "metadata": {},
     "output_type": "display_data"
    },
    {
     "name": "stdout",
     "output_type": "stream",
     "text": [
      "\n"
     ]
    }
   ],
   "source": [
    "new_sr = 32000\n",
    "\n",
    "for i, file in enumerate(tqdm_notebook(filenames_test)):\n",
    "    wav,sr = librosa.load(path_test+file, sr = new_sr)\n",
    "    wavwrite(path_32k_test+file,sr,wav)"
   ]
  },
  {
   "cell_type": "code",
   "execution_count": null,
   "metadata": {},
   "outputs": [],
   "source": []
  }
 ],
 "metadata": {
  "kernelspec": {
   "display_name": "Python 3",
   "language": "python",
   "name": "python3"
  },
  "language_info": {
   "codemirror_mode": {
    "name": "ipython",
    "version": 3
   },
   "file_extension": ".py",
   "mimetype": "text/x-python",
   "name": "python",
   "nbconvert_exporter": "python",
   "pygments_lexer": "ipython3",
   "version": "3.6.7"
  }
 },
 "nbformat": 4,
 "nbformat_minor": 2
}
