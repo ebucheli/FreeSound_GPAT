{
 "cells": [
  {
   "cell_type": "code",
   "execution_count": 1,
   "metadata": {
    "_cell_guid": "b1076dfc-b9ad-4769-8c92-a6c4dae69d19",
    "_uuid": "8f2839f25d086af736a60e9eeb907d3b93b6e0e5"
   },
   "outputs": [],
   "source": [
    "import numpy as np\n",
    "import pandas as pd\n",
    "import matplotlib.pyplot as plt\n",
    "import librosa\n",
    "import librosa.display\n",
    "from IPython.display import Audio\n",
    "\n",
    "import os\n",
    "import pickle\n",
    "import json\n",
    "\n",
    "from tqdm import tqdm_notebook\n",
    "from scipy.io import wavfile\n",
    "from copy import deepcopy"
   ]
  },
  {
   "cell_type": "code",
   "execution_count": 2,
   "metadata": {},
   "outputs": [],
   "source": [
    "#path_dataset = '../input/'\n",
    "path_dataset = '/home/edoardobucheli/Datasets/FSDKaggle2018'\n",
    "\n",
    "path_train = os.path.join(path_dataset,'audio_train_16k')\n",
    "path_test = os.path.join(path_dataset,'audio_test_16k')"
   ]
  },
  {
   "cell_type": "code",
   "execution_count": 3,
   "metadata": {},
   "outputs": [],
   "source": [
    "train_data = pd.read_csv(os.path.join(path_dataset,'train_post_competition.csv'))\n",
    "test_data = pd.read_csv(os.path.join(path_dataset,'test_post_competition_scoring_clips.csv'))"
   ]
  },
  {
   "cell_type": "code",
   "execution_count": 4,
   "metadata": {},
   "outputs": [
    {
     "data": {
      "text/html": [
       "<div>\n",
       "<style scoped>\n",
       "    .dataframe tbody tr th:only-of-type {\n",
       "        vertical-align: middle;\n",
       "    }\n",
       "\n",
       "    .dataframe tbody tr th {\n",
       "        vertical-align: top;\n",
       "    }\n",
       "\n",
       "    .dataframe thead th {\n",
       "        text-align: right;\n",
       "    }\n",
       "</style>\n",
       "<table border=\"1\" class=\"dataframe\">\n",
       "  <thead>\n",
       "    <tr style=\"text-align: right;\">\n",
       "      <th></th>\n",
       "      <th>fname</th>\n",
       "      <th>label</th>\n",
       "      <th>manually_verified</th>\n",
       "      <th>freesound_id</th>\n",
       "      <th>license</th>\n",
       "    </tr>\n",
       "  </thead>\n",
       "  <tbody>\n",
       "    <tr>\n",
       "      <th>0</th>\n",
       "      <td>00044347.wav</td>\n",
       "      <td>Hi-hat</td>\n",
       "      <td>0</td>\n",
       "      <td>28739</td>\n",
       "      <td>Attribution</td>\n",
       "    </tr>\n",
       "    <tr>\n",
       "      <th>1</th>\n",
       "      <td>001ca53d.wav</td>\n",
       "      <td>Saxophone</td>\n",
       "      <td>1</td>\n",
       "      <td>358827</td>\n",
       "      <td>Attribution</td>\n",
       "    </tr>\n",
       "    <tr>\n",
       "      <th>2</th>\n",
       "      <td>002d256b.wav</td>\n",
       "      <td>Trumpet</td>\n",
       "      <td>0</td>\n",
       "      <td>10897</td>\n",
       "      <td>Creative Commons 0</td>\n",
       "    </tr>\n",
       "    <tr>\n",
       "      <th>3</th>\n",
       "      <td>0033e230.wav</td>\n",
       "      <td>Glockenspiel</td>\n",
       "      <td>1</td>\n",
       "      <td>325017</td>\n",
       "      <td>Attribution</td>\n",
       "    </tr>\n",
       "    <tr>\n",
       "      <th>4</th>\n",
       "      <td>00353774.wav</td>\n",
       "      <td>Cello</td>\n",
       "      <td>1</td>\n",
       "      <td>195688</td>\n",
       "      <td>Attribution</td>\n",
       "    </tr>\n",
       "  </tbody>\n",
       "</table>\n",
       "</div>"
      ],
      "text/plain": [
       "          fname         label  manually_verified  freesound_id  \\\n",
       "0  00044347.wav        Hi-hat                  0         28739   \n",
       "1  001ca53d.wav     Saxophone                  1        358827   \n",
       "2  002d256b.wav       Trumpet                  0         10897   \n",
       "3  0033e230.wav  Glockenspiel                  1        325017   \n",
       "4  00353774.wav         Cello                  1        195688   \n",
       "\n",
       "              license  \n",
       "0         Attribution  \n",
       "1         Attribution  \n",
       "2  Creative Commons 0  \n",
       "3         Attribution  \n",
       "4         Attribution  "
      ]
     },
     "execution_count": 4,
     "metadata": {},
     "output_type": "execute_result"
    }
   ],
   "source": [
    "train_data.head()"
   ]
  },
  {
   "cell_type": "code",
   "execution_count": 5,
   "metadata": {},
   "outputs": [
    {
     "data": {
      "text/html": [
       "<div>\n",
       "<style scoped>\n",
       "    .dataframe tbody tr th:only-of-type {\n",
       "        vertical-align: middle;\n",
       "    }\n",
       "\n",
       "    .dataframe tbody tr th {\n",
       "        vertical-align: top;\n",
       "    }\n",
       "\n",
       "    .dataframe thead th {\n",
       "        text-align: right;\n",
       "    }\n",
       "</style>\n",
       "<table border=\"1\" class=\"dataframe\">\n",
       "  <thead>\n",
       "    <tr style=\"text-align: right;\">\n",
       "      <th></th>\n",
       "      <th>fname</th>\n",
       "      <th>label</th>\n",
       "      <th>usage</th>\n",
       "      <th>freesound_id</th>\n",
       "      <th>license</th>\n",
       "    </tr>\n",
       "  </thead>\n",
       "  <tbody>\n",
       "    <tr>\n",
       "      <th>0</th>\n",
       "      <td>00326aa9.wav</td>\n",
       "      <td>Oboe</td>\n",
       "      <td>Private</td>\n",
       "      <td>355125</td>\n",
       "      <td>Attribution</td>\n",
       "    </tr>\n",
       "    <tr>\n",
       "      <th>1</th>\n",
       "      <td>0038a046.wav</td>\n",
       "      <td>Bass_drum</td>\n",
       "      <td>Private</td>\n",
       "      <td>90621</td>\n",
       "      <td>Creative Commons 0</td>\n",
       "    </tr>\n",
       "    <tr>\n",
       "      <th>2</th>\n",
       "      <td>007759c4.wav</td>\n",
       "      <td>Saxophone</td>\n",
       "      <td>Private</td>\n",
       "      <td>13406</td>\n",
       "      <td>Creative Commons 0</td>\n",
       "    </tr>\n",
       "    <tr>\n",
       "      <th>3</th>\n",
       "      <td>008afd93.wav</td>\n",
       "      <td>Saxophone</td>\n",
       "      <td>Private</td>\n",
       "      <td>358962</td>\n",
       "      <td>Attribution</td>\n",
       "    </tr>\n",
       "    <tr>\n",
       "      <th>4</th>\n",
       "      <td>00ae03f6.wav</td>\n",
       "      <td>Chime</td>\n",
       "      <td>Private</td>\n",
       "      <td>78203</td>\n",
       "      <td>Attribution</td>\n",
       "    </tr>\n",
       "  </tbody>\n",
       "</table>\n",
       "</div>"
      ],
      "text/plain": [
       "          fname      label    usage  freesound_id             license\n",
       "0  00326aa9.wav       Oboe  Private        355125         Attribution\n",
       "1  0038a046.wav  Bass_drum  Private         90621  Creative Commons 0\n",
       "2  007759c4.wav  Saxophone  Private         13406  Creative Commons 0\n",
       "3  008afd93.wav  Saxophone  Private        358962         Attribution\n",
       "4  00ae03f6.wav      Chime  Private         78203         Attribution"
      ]
     },
     "execution_count": 5,
     "metadata": {},
     "output_type": "execute_result"
    }
   ],
   "source": [
    "test_data.head()"
   ]
  },
  {
   "cell_type": "code",
   "execution_count": 6,
   "metadata": {},
   "outputs": [],
   "source": [
    "classes = np.unique(train_data['label'])\n",
    "n_classes = len(classes)\n",
    "\n",
    "num_to_label = dict([[v,k] for v,k in enumerate(classes)])\n",
    "label_to_num = dict([[k,v] for v,k in enumerate(classes)])\n",
    "\n",
    "with open('./label_to_meta_v1.json','r') as fp:\n",
    "    label_to_meta = json.load(fp)\n",
    "    \n",
    "label_num_to_meta = dict([[label_to_num[f],v] for [f,v] in label_to_meta.items()])"
   ]
  },
  {
   "cell_type": "code",
   "execution_count": 7,
   "metadata": {},
   "outputs": [],
   "source": [
    "data_manual = train_data[train_data['manually_verified']==1]\n",
    "data_auto = train_data[train_data['manually_verified']==0]"
   ]
  },
  {
   "cell_type": "code",
   "execution_count": 8,
   "metadata": {},
   "outputs": [],
   "source": [
    "filenames_all = train_data['fname'].tolist()\n",
    "meta_labels_all = [label_to_meta[f] for f in train_data['label']]\n",
    "labels_all = [label_to_num[f] for f in train_data['label']]\n",
    "\n",
    "filenames_manual = data_manual['fname'].tolist()\n",
    "meta_labels_manual = [label_to_meta[f] for f in data_manual['label']]\n",
    "labels_manual = [label_to_num[f] for f in data_manual['label']]\n",
    "\n",
    "filenames_auto = data_auto['fname'].tolist()\n",
    "meta_labels_auto = [label_to_meta[f] for f in data_auto['label']]\n",
    "labels_auto = [label_to_num[f] for f in data_auto['label']]\n",
    "\n",
    "filenames_test = test_data['fname'].tolist()\n",
    "meta_labels_test = [label_to_meta[f] for f in test_data['label']]\n",
    "labels_test = [label_to_num[f] for f in test_data['label']]"
   ]
  },
  {
   "cell_type": "markdown",
   "metadata": {},
   "source": [
    "### Load Data"
   ]
  },
  {
   "cell_type": "code",
   "execution_count": 9,
   "metadata": {},
   "outputs": [],
   "source": [
    "pickle_train = './preprocessed_train/MS-80-HL512-WF16k-64k'\n",
    "pickle_test = './preprocessed_test/MS-80-HL512-WF16k-64k'"
   ]
  },
  {
   "cell_type": "code",
   "execution_count": 10,
   "metadata": {},
   "outputs": [],
   "source": [
    "with open(pickle_train,'rb') as fp:\n",
    "    x_train = pickle.load(fp)\n",
    "with open(pickle_test, 'rb') as fp:\n",
    "    x_test = pickle.load(fp)"
   ]
  },
  {
   "cell_type": "code",
   "execution_count": 11,
   "metadata": {},
   "outputs": [],
   "source": [
    "#indx_0 = [i for i,f in enumerate(meta_labels_all) if f == 0]\n",
    "indx_1 = [i for i,f in enumerate(meta_labels_all) if f == 1]\n",
    "#indx_2 = [i for i,f in enumerate(meta_labels_all) if f == 2]\n",
    "#indx_3 = [i for i,f in enumerate(meta_labels_all) if f == 3]\n",
    "#indx_4 = [i for i,f in enumerate(meta_labels_all) if f == 4]\n",
    "#indx_5 = [i for i,f in enumerate(meta_labels_all) if f == 5]\n",
    "#indx_6 = [i for i,f in enumerate(meta_labels_all) if f == 6]"
   ]
  },
  {
   "cell_type": "code",
   "execution_count": 12,
   "metadata": {},
   "outputs": [],
   "source": [
    "x_1 = [x_train[f] for f in indx_1]\n",
    "labels_1 = [labels_all[f] for f in indx_1]\n",
    "labels_name_1 = [num_to_label[f] for f in labels_1]\n",
    "\n",
    "c1_new_label_mapping = dict([[f,i] for i,f in enumerate(np.unique(labels_1))])\n",
    "new_train_labels_1 = [c1_new_label_mapping[f] for f in labels_1]"
   ]
  },
  {
   "cell_type": "code",
   "execution_count": 13,
   "metadata": {},
   "outputs": [],
   "source": [
    "indx_unk = [i for i in np.random.randint(0,len(x_train),len(x_1))if i not in indx_1]\n",
    "x_unk = [x_train[f] for f in indx_unk]\n",
    "labels_unk = np.ones((len(indx_unk),))*(len(np.unique(new_train_labels_1)))"
   ]
  },
  {
   "cell_type": "code",
   "execution_count": 14,
   "metadata": {},
   "outputs": [],
   "source": [
    "x_1_2 = x_1 + x_unk\n",
    "new_train_labels_1.extend(labels_unk)"
   ]
  },
  {
   "cell_type": "code",
   "execution_count": 15,
   "metadata": {},
   "outputs": [],
   "source": [
    "with open('./c1_mapping','wb') as fp:\n",
    "    pickle.dump(c1_new_label_mapping,fp)"
   ]
  },
  {
   "cell_type": "code",
   "execution_count": 16,
   "metadata": {},
   "outputs": [],
   "source": [
    "indx_test_1 = [i for i,f in enumerate(meta_labels_test) if f == 1]"
   ]
  },
  {
   "cell_type": "code",
   "execution_count": 17,
   "metadata": {},
   "outputs": [],
   "source": [
    "x_test_1 = [x_test[f] for f in indx_test_1]\n",
    "labels_test_1 = [labels_test[f] for f in indx_test_1]\n",
    "new_test_labels_1 = [c1_new_label_mapping[f] for f in labels_test_1]"
   ]
  },
  {
   "cell_type": "code",
   "execution_count": 18,
   "metadata": {},
   "outputs": [],
   "source": [
    "indx_unk_test = [i for i in np.random.randint(0,len(x_test),len(x_test_1)) if i not in indx_test_1]\n",
    "x_unk_test = [x_test[f] for f in indx_unk_test]\n",
    "labels_unk_test = np.ones((len(indx_unk_test),))*(len(np.unique(new_test_labels_1)))"
   ]
  },
  {
   "cell_type": "code",
   "execution_count": 19,
   "metadata": {},
   "outputs": [],
   "source": [
    "x_test_1_2 = x_test_1+x_unk_test\n",
    "new_test_labels_1.extend(labels_unk_test)"
   ]
  },
  {
   "cell_type": "code",
   "execution_count": 20,
   "metadata": {},
   "outputs": [],
   "source": [
    "sr = 16000\n",
    "file_length = sr*4\n",
    "hop_length = 512\n",
    "n_mels = 80\n",
    "\n",
    "frames = int(np.ceil(file_length/hop_length))"
   ]
  },
  {
   "cell_type": "code",
   "execution_count": 21,
   "metadata": {},
   "outputs": [
    {
     "name": "stderr",
     "output_type": "stream",
     "text": [
      "Using TensorFlow backend.\n"
     ]
    }
   ],
   "source": [
    "from keras.utils import Sequence\n",
    "\n",
    "class DataGenerator(Sequence):\n",
    "    def __init__(self,x_set,y_set,\n",
    "                 batch_size = 128,input_shape = (80,frames),\n",
    "                 n_classes=80, sr = 44100, seconds = 4):\n",
    "        \n",
    "        self.x, self.y = x_set,y_set\n",
    "        self.batch_size = batch_size\n",
    "        self.input_shape = input_shape\n",
    "        self.n_classes = n_classes\n",
    "        self.sr = sr\n",
    "        self.file_length = sr*seconds\n",
    "        #self.on_epoch_end()\n",
    "    \n",
    "    def __len__(self):\n",
    "        return int(np.ceil(len(self.x)/self.batch_size))\n",
    "    \n",
    "    def __getitem__(self,idx):\n",
    "        \n",
    "        spects = self.x[idx*self.batch_size:(idx+1)*self.batch_size]\n",
    "        batch_y = self.y[idx*self.batch_size:(idx+1)*self.batch_size]\n",
    "        \n",
    "        batch_x = self.__generate_data(spects)\n",
    "        \n",
    "        #print(batch_x.shape)\n",
    "        #print(batch_y.shape)\n",
    "        \n",
    "        return batch_x,batch_y\n",
    "    \n",
    "    def __generate_data(self,spects):\n",
    "        n_mels,frames = self.input_shape\n",
    "        x_batch = np.zeros((len(spects),n_mels,frames))\n",
    "        \n",
    "        for i, spect in enumerate(spects):\n",
    "            freq_res,time_res = spect.shape\n",
    "            \n",
    "            max_start = time_res-frames\n",
    "            if max_start == 0:\n",
    "                start = 0\n",
    "            else:\n",
    "                start = np.random.randint(0,max_start)\n",
    "            end = start+frames\n",
    "            \n",
    "            x_batch[i] = spect[:,start:end]\n",
    "        \n",
    "        return x_batch"
   ]
  },
  {
   "cell_type": "markdown",
   "metadata": {},
   "source": [
    "# Malley CNN"
   ]
  },
  {
   "cell_type": "code",
   "execution_count": 22,
   "metadata": {},
   "outputs": [],
   "source": [
    "from keras.layers import Conv2D, MaxPool2D, Dropout, Activation\n",
    "from keras.layers import GlobalMaxPool2D, Dense, Input\n",
    "from keras.layers import Lambda\n",
    "from keras.models import Model\n",
    "from keras.activations import relu, softmax\n",
    "from keras.backend import expand_dims\n",
    "from keras.optimizers import Adam\n",
    "from kapre.time_frequency import Melspectrogram\n",
    "from kapre.utils import Normalization2D"
   ]
  },
  {
   "cell_type": "code",
   "execution_count": 23,
   "metadata": {},
   "outputs": [],
   "source": [
    "def malley_cnn_80(input_shape, n_classes):\n",
    "\n",
    "    X_input = Input(input_shape)\n",
    "    meta_labels_all\n",
    "    X = Lambda(lambda q: expand_dims(q, -1), name='expand_dims') (X_input)\n",
    "    \n",
    "    X = Conv2D(64,[3,7],padding = 'same')(X)\n",
    "    X = Activation(relu)(X)\n",
    "    X = MaxPool2D([2,1])(X)\n",
    "    \n",
    "    X = Conv2D(128,[7,1],padding = 'same')(X)\n",
    "    X = Activation('relu')(X)\n",
    "    X = MaxPool2D([4,1])(X)\n",
    "    \n",
    "    X = Conv2D(256,[10,1],padding = 'valid')(X)\n",
    "    X = Activation('relu')(X)\n",
    "    \n",
    "    X = Conv2D(512,[1,7],padding = 'same')(X)\n",
    "    X = Activation('relu')(X)\n",
    "    \n",
    "    X = GlobalMaxPool2D()(X)\n",
    "    \n",
    "    X = Dense(512,activation = 'relu')(X)\n",
    "    X = Dropout(0.5)(X)\n",
    "    \n",
    "    X = Dense(n_classes, activation = 'softmax')(X)\n",
    "\n",
    "    model = Model(inputs = X_input, outputs = X)\n",
    "    \n",
    "    return model"
   ]
  },
  {
   "cell_type": "code",
   "execution_count": 24,
   "metadata": {},
   "outputs": [
    {
     "name": "stdout",
     "output_type": "stream",
     "text": [
      "_________________________________________________________________\n",
      "Layer (type)                 Output Shape              Param #   \n",
      "=================================================================\n",
      "input_1 (InputLayer)         (None, 80, 125)           0         \n",
      "_________________________________________________________________\n",
      "expand_dims (Lambda)         (None, 80, 125, 1)        0         \n",
      "_________________________________________________________________\n",
      "conv2d_1 (Conv2D)            (None, 80, 125, 64)       1408      \n",
      "_________________________________________________________________\n",
      "activation_1 (Activation)    (None, 80, 125, 64)       0         \n",
      "_________________________________________________________________\n",
      "max_pooling2d_1 (MaxPooling2 (None, 40, 125, 64)       0         \n",
      "_________________________________________________________________\n",
      "conv2d_2 (Conv2D)            (None, 40, 125, 128)      57472     \n",
      "_________________________________________________________________\n",
      "activation_2 (Activation)    (None, 40, 125, 128)      0         \n",
      "_________________________________________________________________\n",
      "max_pooling2d_2 (MaxPooling2 (None, 10, 125, 128)      0         \n",
      "_________________________________________________________________\n",
      "conv2d_3 (Conv2D)            (None, 1, 125, 256)       327936    \n",
      "_________________________________________________________________\n",
      "activation_3 (Activation)    (None, 1, 125, 256)       0         \n",
      "_________________________________________________________________\n",
      "conv2d_4 (Conv2D)            (None, 1, 125, 512)       918016    \n",
      "_________________________________________________________________\n",
      "activation_4 (Activation)    (None, 1, 125, 512)       0         \n",
      "_________________________________________________________________\n",
      "global_max_pooling2d_1 (Glob (None, 512)               0         \n",
      "_________________________________________________________________\n",
      "dense_1 (Dense)              (None, 512)               262656    \n",
      "_________________________________________________________________\n",
      "dropout_1 (Dropout)          (None, 512)               0         \n",
      "_________________________________________________________________\n",
      "dense_2 (Dense)              (None, 4)                 2052      \n",
      "=================================================================\n",
      "Total params: 1,569,540\n",
      "Trainable params: 1,569,540\n",
      "Non-trainable params: 0\n",
      "_________________________________________________________________\n"
     ]
    }
   ],
   "source": [
    "input_shape = ([n_mels,frames])\n",
    "lr = 0.001\n",
    "malley = malley_cnn_80(input_shape,len(c1_new_label_mapping)+1)\n",
    "malley.summary()"
   ]
  },
  {
   "cell_type": "code",
   "execution_count": 25,
   "metadata": {},
   "outputs": [],
   "source": [
    "malley.compile(optimizer=Adam(lr),loss = 'sparse_categorical_crossentropy',metrics = ['accuracy'])"
   ]
  },
  {
   "cell_type": "markdown",
   "metadata": {},
   "source": [
    "### Split Dataset and make Generators"
   ]
  },
  {
   "cell_type": "code",
   "execution_count": 26,
   "metadata": {},
   "outputs": [],
   "source": [
    "from sklearn.model_selection import train_test_split"
   ]
  },
  {
   "cell_type": "code",
   "execution_count": 27,
   "metadata": {},
   "outputs": [],
   "source": [
    "#X_train_n,X_val_n,y_train_n,y_val_n = train_test_split(X_noisy,y_noisy,test_size=0.1, random_state=7)"
   ]
  },
  {
   "cell_type": "code",
   "execution_count": 28,
   "metadata": {},
   "outputs": [],
   "source": [
    "X_train_a,X_val_a,y_train_a,y_val_a = train_test_split(x_1_2,new_train_labels_1,test_size=0.1, random_state=7)"
   ]
  },
  {
   "cell_type": "code",
   "execution_count": 29,
   "metadata": {},
   "outputs": [],
   "source": [
    "#train_generator_n = DataGenerator(X_train_n,y_train_n)\n",
    "#val_generator_n = DataGenerator(X_val_n,y_val_n)"
   ]
  },
  {
   "cell_type": "code",
   "execution_count": 30,
   "metadata": {},
   "outputs": [],
   "source": [
    "train_generator_a = DataGenerator(X_train_a,y_train_a)\n",
    "val_generator_a = DataGenerator(X_val_a,y_val_a)"
   ]
  },
  {
   "cell_type": "markdown",
   "metadata": {},
   "source": [
    "### Train the Model"
   ]
  },
  {
   "cell_type": "code",
   "execution_count": 31,
   "metadata": {
    "scrolled": false
   },
   "outputs": [
    {
     "name": "stdout",
     "output_type": "stream",
     "text": [
      "Epoch 1/50\n",
      "12/12 [==============================] - 4s 355ms/step - loss: 1.2926 - acc: 0.4616 - val_loss: 1.1757 - val_acc: 0.4211\n",
      "Epoch 2/50\n",
      "12/12 [==============================] - 2s 195ms/step - loss: 1.0667 - acc: 0.4961 - val_loss: 0.8974 - val_acc: 0.5673\n",
      "Epoch 3/50\n",
      "12/12 [==============================] - 2s 196ms/step - loss: 0.8741 - acc: 0.6107 - val_loss: 0.6883 - val_acc: 0.7251\n",
      "Epoch 4/50\n",
      "12/12 [==============================] - 2s 196ms/step - loss: 0.7705 - acc: 0.6602 - val_loss: 0.6418 - val_acc: 0.7368\n",
      "Epoch 5/50\n",
      "12/12 [==============================] - 2s 205ms/step - loss: 0.6751 - acc: 0.7363 - val_loss: 0.5731 - val_acc: 0.7895\n",
      "Epoch 6/50\n",
      "12/12 [==============================] - 3s 239ms/step - loss: 0.5687 - acc: 0.7715 - val_loss: 0.5125 - val_acc: 0.7602\n",
      "Epoch 7/50\n",
      "12/12 [==============================] - 3s 212ms/step - loss: 0.5426 - acc: 0.7969 - val_loss: 0.4241 - val_acc: 0.8596\n",
      "Epoch 8/50\n",
      "12/12 [==============================] - 2s 201ms/step - loss: 0.4978 - acc: 0.8073 - val_loss: 0.4140 - val_acc: 0.8304\n",
      "Epoch 9/50\n",
      "12/12 [==============================] - 2s 199ms/step - loss: 0.4129 - acc: 0.8444 - val_loss: 0.3579 - val_acc: 0.8538\n",
      "Epoch 10/50\n",
      "12/12 [==============================] - 2s 197ms/step - loss: 0.3617 - acc: 0.8626 - val_loss: 0.3227 - val_acc: 0.8655\n",
      "Epoch 11/50\n",
      "12/12 [==============================] - 2s 200ms/step - loss: 0.3398 - acc: 0.8789 - val_loss: 0.2958 - val_acc: 0.8772\n",
      "Epoch 12/50\n",
      "12/12 [==============================] - 2s 203ms/step - loss: 0.2844 - acc: 0.8887 - val_loss: 0.4149 - val_acc: 0.8363\n",
      "Epoch 13/50\n",
      "12/12 [==============================] - 2s 199ms/step - loss: 0.3057 - acc: 0.8971 - val_loss: 0.3286 - val_acc: 0.9064\n",
      "Epoch 14/50\n",
      "12/12 [==============================] - 2s 199ms/step - loss: 0.3284 - acc: 0.8789 - val_loss: 0.3486 - val_acc: 0.8655\n",
      "Epoch 15/50\n",
      "12/12 [==============================] - 2s 199ms/step - loss: 0.3070 - acc: 0.8867 - val_loss: 0.3024 - val_acc: 0.8889\n",
      "Epoch 16/50\n",
      "12/12 [==============================] - 2s 198ms/step - loss: 0.2465 - acc: 0.9128 - val_loss: 0.2237 - val_acc: 0.9240\n",
      "Epoch 17/50\n",
      "12/12 [==============================] - 2s 198ms/step - loss: 0.2296 - acc: 0.9180 - val_loss: 0.3930 - val_acc: 0.8655\n",
      "Epoch 18/50\n",
      "12/12 [==============================] - 2s 199ms/step - loss: 0.1964 - acc: 0.9342 - val_loss: 0.3633 - val_acc: 0.8713\n",
      "Epoch 19/50\n",
      "12/12 [==============================] - 2s 199ms/step - loss: 0.1695 - acc: 0.9401 - val_loss: 0.3371 - val_acc: 0.9123\n",
      "Epoch 20/50\n",
      "12/12 [==============================] - 2s 206ms/step - loss: 0.1683 - acc: 0.9460 - val_loss: 0.2845 - val_acc: 0.9123\n",
      "Epoch 21/50\n",
      "12/12 [==============================] - 2s 199ms/step - loss: 0.2355 - acc: 0.9128 - val_loss: 0.4070 - val_acc: 0.8596\n",
      "Epoch 22/50\n",
      "12/12 [==============================] - 2s 202ms/step - loss: 0.1847 - acc: 0.9290 - val_loss: 0.4085 - val_acc: 0.8655\n",
      "Epoch 23/50\n",
      "12/12 [==============================] - 2s 198ms/step - loss: 0.1794 - acc: 0.9375 - val_loss: 0.2866 - val_acc: 0.8947\n",
      "Epoch 24/50\n",
      "12/12 [==============================] - 2s 198ms/step - loss: 0.1835 - acc: 0.9342 - val_loss: 0.5613 - val_acc: 0.8246\n",
      "Epoch 25/50\n",
      "12/12 [==============================] - 2s 198ms/step - loss: 0.1708 - acc: 0.9388 - val_loss: 0.2274 - val_acc: 0.9298\n",
      "Epoch 26/50\n",
      "12/12 [==============================] - 2s 202ms/step - loss: 0.1486 - acc: 0.9492 - val_loss: 0.3031 - val_acc: 0.9006\n",
      "Epoch 27/50\n",
      "12/12 [==============================] - 2s 205ms/step - loss: 0.1284 - acc: 0.9544 - val_loss: 0.3285 - val_acc: 0.9006\n",
      "Epoch 28/50\n",
      "12/12 [==============================] - 2s 199ms/step - loss: 0.1142 - acc: 0.9538 - val_loss: 0.3911 - val_acc: 0.8830\n",
      "Epoch 29/50\n",
      "12/12 [==============================] - 2s 198ms/step - loss: 0.1045 - acc: 0.9622 - val_loss: 0.5108 - val_acc: 0.8713\n",
      "Epoch 30/50\n",
      "12/12 [==============================] - 2s 197ms/step - loss: 0.0989 - acc: 0.9688 - val_loss: 0.4254 - val_acc: 0.8772\n",
      "Epoch 31/50\n",
      "12/12 [==============================] - 2s 197ms/step - loss: 0.0868 - acc: 0.9714 - val_loss: 0.2765 - val_acc: 0.9064\n",
      "Epoch 32/50\n",
      "12/12 [==============================] - 2s 197ms/step - loss: 0.0710 - acc: 0.9798 - val_loss: 0.3543 - val_acc: 0.9006\n",
      "Epoch 33/50\n",
      "12/12 [==============================] - 2s 197ms/step - loss: 0.0776 - acc: 0.9714 - val_loss: 0.4572 - val_acc: 0.8830\n",
      "Epoch 34/50\n",
      "12/12 [==============================] - 2s 198ms/step - loss: 0.0703 - acc: 0.9772 - val_loss: 0.4113 - val_acc: 0.9064\n",
      "Epoch 35/50\n",
      "12/12 [==============================] - 2s 197ms/step - loss: 0.0749 - acc: 0.9792 - val_loss: 0.3513 - val_acc: 0.9181\n",
      "Epoch 36/50\n",
      "12/12 [==============================] - 2s 197ms/step - loss: 0.0577 - acc: 0.9811 - val_loss: 0.3016 - val_acc: 0.9181\n",
      "Epoch 37/50\n",
      "12/12 [==============================] - 2s 198ms/step - loss: 0.0695 - acc: 0.9766 - val_loss: 0.2869 - val_acc: 0.9064\n",
      "Epoch 38/50\n",
      "12/12 [==============================] - 2s 197ms/step - loss: 0.0657 - acc: 0.9772 - val_loss: 0.3469 - val_acc: 0.8772\n",
      "Epoch 39/50\n",
      "12/12 [==============================] - 2s 198ms/step - loss: 0.0602 - acc: 0.9779 - val_loss: 0.4271 - val_acc: 0.9064\n",
      "Epoch 40/50\n",
      "12/12 [==============================] - 2s 197ms/step - loss: 0.0550 - acc: 0.9805 - val_loss: 0.4485 - val_acc: 0.9123\n",
      "Epoch 41/50\n",
      "12/12 [==============================] - 2s 197ms/step - loss: 0.0873 - acc: 0.9681 - val_loss: 0.3594 - val_acc: 0.9123\n",
      "Epoch 42/50\n",
      "12/12 [==============================] - 2s 197ms/step - loss: 0.0630 - acc: 0.9779 - val_loss: 0.3625 - val_acc: 0.8947\n",
      "Epoch 43/50\n",
      "12/12 [==============================] - 2s 198ms/step - loss: 0.0626 - acc: 0.9811 - val_loss: 0.4136 - val_acc: 0.8947\n",
      "Epoch 44/50\n",
      "12/12 [==============================] - 2s 198ms/step - loss: 0.0545 - acc: 0.9844 - val_loss: 0.5578 - val_acc: 0.8596\n",
      "Epoch 45/50\n",
      "12/12 [==============================] - 2s 198ms/step - loss: 0.0538 - acc: 0.9805 - val_loss: 0.5243 - val_acc: 0.8889\n",
      "Epoch 46/50\n",
      "12/12 [==============================] - 2s 198ms/step - loss: 0.0397 - acc: 0.9863 - val_loss: 0.3964 - val_acc: 0.8947\n",
      "Epoch 47/50\n",
      "12/12 [==============================] - 2s 197ms/step - loss: 0.0558 - acc: 0.9818 - val_loss: 0.4211 - val_acc: 0.9123\n",
      "Epoch 48/50\n",
      "12/12 [==============================] - 2s 198ms/step - loss: 0.0541 - acc: 0.9805 - val_loss: 0.3410 - val_acc: 0.9123\n",
      "Epoch 49/50\n",
      "12/12 [==============================] - 2s 197ms/step - loss: 0.0629 - acc: 0.9792 - val_loss: 0.4004 - val_acc: 0.8772\n",
      "Epoch 50/50\n",
      "12/12 [==============================] - 3s 216ms/step - loss: 0.0621 - acc: 0.9824 - val_loss: 0.3915 - val_acc: 0.8947\n"
     ]
    },
    {
     "data": {
      "text/plain": [
       "<keras.callbacks.History at 0x7fa1525fd6a0>"
      ]
     },
     "execution_count": 31,
     "metadata": {},
     "output_type": "execute_result"
    }
   ],
   "source": [
    "malley.fit_generator(train_generator_a,epochs = 50,validation_data=val_generator_a)"
   ]
  },
  {
   "cell_type": "code",
   "execution_count": 34,
   "metadata": {},
   "outputs": [],
   "source": [
    "x_test_c1 = np.zeros((len(x_test_1_2),80,125))\n",
    "\n",
    "for i, this_x in enumerate(x_test_1):\n",
    "    \n",
    "    this_frames = this_x.shape[1]\n",
    "    \n",
    "    if this_frames > 125:\n",
    "        max_start = this_frames - 125\n",
    "        start = np.random.randint(0,max_start)\n",
    "        end = start+125\n",
    "\n",
    "        this_x = this_x[:,start:end]\n",
    "        \n",
    "    x_test_c1[i] = this_x"
   ]
  },
  {
   "cell_type": "code",
   "execution_count": 35,
   "metadata": {},
   "outputs": [
    {
     "name": "stdout",
     "output_type": "stream",
     "text": [
      "383/383 [==============================] - 0s 1ms/step\n"
     ]
    },
    {
     "data": {
      "text/plain": [
       "[0.2174139571529339, 0.95822454308094]"
      ]
     },
     "execution_count": 35,
     "metadata": {},
     "output_type": "execute_result"
    }
   ],
   "source": [
    "malley.evaluate(x_test_c1,new_test_labels_1)"
   ]
  },
  {
   "cell_type": "code",
   "execution_count": 36,
   "metadata": {},
   "outputs": [],
   "source": [
    "y_scores = malley.predict(x_test_c1)"
   ]
  },
  {
   "cell_type": "code",
   "execution_count": 37,
   "metadata": {},
   "outputs": [],
   "source": [
    "y_hat_c1 = np.argmax(y_scores, axis = 1)"
   ]
  },
  {
   "cell_type": "markdown",
   "metadata": {},
   "source": [
    "### Plot Confussion Matrix"
   ]
  },
  {
   "cell_type": "code",
   "execution_count": 38,
   "metadata": {},
   "outputs": [],
   "source": [
    "from sklearn.metrics import confusion_matrix\n",
    "from mpl_toolkits.axes_grid1 import make_axes_locatable"
   ]
  },
  {
   "cell_type": "code",
   "execution_count": 39,
   "metadata": {},
   "outputs": [],
   "source": [
    "cm = confusion_matrix(new_test_labels_1,y_hat_c1)"
   ]
  },
  {
   "cell_type": "code",
   "execution_count": 40,
   "metadata": {},
   "outputs": [
    {
     "data": {
      "text/plain": [
       "{6: 0, 12: 1, 39: 2}"
      ]
     },
     "execution_count": 40,
     "metadata": {},
     "output_type": "execute_result"
    }
   ],
   "source": [
    "c1_new_label_mapping"
   ]
  },
  {
   "cell_type": "code",
   "execution_count": 41,
   "metadata": {},
   "outputs": [],
   "source": [
    "c1_to_name = dict([[v,num_to_label[k]] for [k,v] in c1_new_label_mapping.items()])"
   ]
  },
  {
   "cell_type": "code",
   "execution_count": 42,
   "metadata": {},
   "outputs": [
    {
     "data": {
      "image/png": "[encoded data removed]",
      "text/plain": [
       "<Figure size 1080x1080 with 2 Axes>"
      ]
     },
     "metadata": {
      "needs_background": "light"
     },
     "output_type": "display_data"
    }
   ],
   "source": [
    "normalize = True\n",
    "\n",
    "fig, ax = plt.subplots(1,1,figsize = (15,15))\n",
    "\n",
    "if normalize:\n",
    "    ax.set_title('Normalized Confussion Matrix')\n",
    "    cm = cm.astype('float') / cm.sum(axis=1)[:, np.newaxis]\n",
    "\n",
    "im1 = ax.imshow(cm, cmap = plt.cm.Blues)\n",
    "    \n",
    "divider = make_axes_locatable(ax)\n",
    "cax = divider.append_axes(\"right\", size=\"5%\", pad=0.05)\n",
    "\n",
    "plt.colorbar(im1, cax=cax)\n",
    "\n",
    "fig = ax.set(xlabel = 'Predicted', ylabel = 'True')\n",
    "fig = ax.set_xticks(np.arange(len(c1_new_label_mapping)))\n",
    "fig = ax.set_xticklabels(c1_to_name.values())\n",
    "\n",
    "fig = ax.set_yticks(np.arange(len(c1_new_label_mapping)))\n",
    "fig = ax.set_yticklabels(c1_to_name.values())\n",
    "\n",
    "fmt = '.2f' if normalize else 'd'\n",
    "\n",
    "#fmt = 'd'\n",
    "thresh = cm.max() / 2.\n",
    "\n",
    "for i in range(cm.shape[0]):\n",
    "        for j in range(cm.shape[1]):\n",
    "            ax.text(j, i, format(cm[i, j], fmt),\n",
    "                    ha=\"center\", va=\"center\",\n",
    "                    color=\"white\" if cm[i, j] > thresh else \"black\")"
   ]
  },
  {
   "cell_type": "code",
   "execution_count": 43,
   "metadata": {},
   "outputs": [],
   "source": [
    "malley.save_weights('./weights_c1_malley.h5')"
   ]
  },
  {
   "cell_type": "code",
   "execution_count": 40,
   "metadata": {},
   "outputs": [
    {
     "data": {
      "text/plain": [
       "{0: 'Cello', 1: 'Double_bass', 2: 'Violin_or_fiddle'}"
      ]
     },
     "execution_count": 40,
     "metadata": {},
     "output_type": "execute_result"
    }
   ],
   "source": [
    "c1_to_name"
   ]
  },
  {
   "cell_type": "code",
   "execution_count": 41,
   "metadata": {},
   "outputs": [
    {
     "data": {
      "text/plain": [
       "{6: 0, 12: 1, 39: 2}"
      ]
     },
     "execution_count": 41,
     "metadata": {},
     "output_type": "execute_result"
    }
   ],
   "source": [
    "c1_new_label_mapping"
   ]
  },
  {
   "cell_type": "markdown",
   "metadata": {},
   "source": [
    "### Train Only with Curated Data"
   ]
  },
  {
   "cell_type": "code",
   "execution_count": 37,
   "metadata": {},
   "outputs": [],
   "source": [
    "X_curated = []\n",
    "\n",
    "for i,tag in enumerate(train_data['manually_verified']):\n",
    "    if tag == 1:\n",
    "        X_curated.append(X_all[i])"
   ]
  },
  {
   "cell_type": "code",
   "execution_count": 40,
   "metadata": {},
   "outputs": [],
   "source": [
    "X_train_c,X_val_c,y_train_c,y_val_c = train_test_split(X_curated,labels_manual,test_size=0.1, random_state=7)"
   ]
  },
  {
   "cell_type": "code",
   "execution_count": 41,
   "metadata": {},
   "outputs": [],
   "source": [
    "train_generator_c = DataGenerator(X_train_c,y_train_c)\n",
    "val_generator_c = DataGenerator(X_val_c,y_val_c)"
   ]
  },
  {
   "cell_type": "code",
   "execution_count": 49,
   "metadata": {},
   "outputs": [
    {
     "name": "stdout",
     "output_type": "stream",
     "text": [
      "Epoch 1/1\n",
      "27/27 [==============================] - 6s 222ms/step - loss: 0.0812 - acc: 0.9721 - val_loss: 1.4502 - val_acc: 0.7562\n"
     ]
    },
    {
     "data": {
      "text/plain": [
       "<keras.callbacks.History at 0x7f008a7c2d30>"
      ]
     },
     "execution_count": 49,
     "metadata": {},
     "output_type": "execute_result"
    }
   ],
   "source": [
    "malley.fit_generator(train_generator_c,epochs = 1,validation_data=test_generator)"
   ]
  },
  {
   "cell_type": "markdown",
   "metadata": {},
   "source": [
    "### Test"
   ]
  },
  {
   "cell_type": "code",
   "execution_count": null,
   "metadata": {},
   "outputs": [],
   "source": []
  },
  {
   "cell_type": "code",
   "execution_count": null,
   "metadata": {},
   "outputs": [],
   "source": []
  }
 ],
 "metadata": {
  "kernelspec": {
   "display_name": "Python 3",
   "language": "python",
   "name": "python3"
  },
  "language_info": {
   "codemirror_mode": {
    "name": "ipython",
    "version": 3
   },
   "file_extension": ".py",
   "mimetype": "text/x-python",
   "name": "python",
   "nbconvert_exporter": "python",
   "pygments_lexer": "ipython3",
   "version": "3.6.7"
  }
 },
 "nbformat": 4,
 "nbformat_minor": 1
}
